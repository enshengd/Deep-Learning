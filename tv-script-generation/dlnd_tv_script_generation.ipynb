{
 "cells": [
  {
   "cell_type": "markdown",
   "metadata": {},
   "source": [
    "# TV Script Generation\n",
    "In this project, you'll generate your own [Simpsons](https://en.wikipedia.org/wiki/The_Simpsons) TV scripts using RNNs.  You'll be using part of the [Simpsons dataset](https://www.kaggle.com/wcukierski/the-simpsons-by-the-data) of scripts from 27 seasons.  The Neural Network you'll build will generate a new TV script for a scene at [Moe's Tavern](https://simpsonswiki.com/wiki/Moe's_Tavern).\n",
    "## Get the Data\n",
    "The data is already provided for you.  You'll be using a subset of the original dataset.  It consists of only the scenes in Moe's Tavern.  This doesn't include other versions of the tavern, like \"Moe's Cavern\", \"Flaming Moe's\", \"Uncle Moe's Family Feed-Bag\", etc.."
   ]
  },
  {
   "cell_type": "code",
   "execution_count": 1,
   "metadata": {
    "collapsed": true
   },
   "outputs": [],
   "source": [
    "\"\"\"\n",
    "DON'T MODIFY ANYTHING IN THIS CELL\n",
    "\"\"\"\n",
    "import helper\n",
    "\n",
    "data_dir = './data/simpsons/moes_tavern_lines.txt'\n",
    "text = helper.load_data(data_dir)\n",
    "# Ignore notice, since we don't use it for analysing the data\n",
    "text = text[81:]"
   ]
  },
  {
   "cell_type": "markdown",
   "metadata": {},
   "source": [
    "## Explore the Data\n",
    "Play around with `view_sentence_range` to view different parts of the data."
   ]
  },
  {
   "cell_type": "code",
   "execution_count": 2,
   "metadata": {},
   "outputs": [
    {
     "name": "stdout",
     "output_type": "stream",
     "text": [
      "Dataset Stats\n",
      "Roughly the number of unique words: 11492\n",
      "Number of scenes: 262\n",
      "Average number of sentences in each scene: 15.251908396946565\n",
      "Number of lines: 4258\n",
      "Average number of words in each line: 11.50164396430249\n",
      "\n",
      "The sentences 0 to 10:\n",
      "\n",
      "Moe_Szyslak: (INTO PHONE) Moe's Tavern. Where the elite meet to drink.\n",
      "Bart_Simpson: Eh, yeah, hello, is Mike there? Last name, Rotch.\n",
      "Moe_Szyslak: (INTO PHONE) Hold on, I'll check. (TO BARFLIES) Mike Rotch. Mike Rotch. Hey, has anybody seen Mike Rotch, lately?\n",
      "Moe_Szyslak: (INTO PHONE) Listen you little puke. One of these days I'm gonna catch you, and I'm gonna carve my name on your back with an ice pick.\n",
      "Moe_Szyslak: What's the matter Homer? You're not your normal effervescent self.\n",
      "Homer_Simpson: I got my problems, Moe. Give me another one.\n",
      "Moe_Szyslak: Homer, hey, you should not drink to forget your problems.\n",
      "Barney_Gumble: Yeah, you should only drink to enhance your social skills.\n",
      "\n"
     ]
    }
   ],
   "source": [
    "view_sentence_range = (0, 10)\n",
    "\n",
    "\"\"\"\n",
    "DON'T MODIFY ANYTHING IN THIS CELL\n",
    "\"\"\"\n",
    "import numpy as np\n",
    "\n",
    "print('Dataset Stats')\n",
    "print('Roughly the number of unique words: {}'.format(len({word: None for word in text.split()})))\n",
    "scenes = text.split('\\n\\n')\n",
    "print('Number of scenes: {}'.format(len(scenes)))\n",
    "sentence_count_scene = [scene.count('\\n') for scene in scenes]\n",
    "print('Average number of sentences in each scene: {}'.format(np.average(sentence_count_scene)))\n",
    "\n",
    "sentences = [sentence for scene in scenes for sentence in scene.split('\\n')]\n",
    "print('Number of lines: {}'.format(len(sentences)))\n",
    "word_count_sentence = [len(sentence.split()) for sentence in sentences]\n",
    "print('Average number of words in each line: {}'.format(np.average(word_count_sentence)))\n",
    "\n",
    "print()\n",
    "print('The sentences {} to {}:'.format(*view_sentence_range))\n",
    "print('\\n'.join(text.split('\\n')[view_sentence_range[0]:view_sentence_range[1]]))"
   ]
  },
  {
   "cell_type": "markdown",
   "metadata": {},
   "source": [
    "## Implement Preprocessing Functions\n",
    "The first thing to do to any dataset is preprocessing.  Implement the following preprocessing functions below:\n",
    "- Lookup Table\n",
    "- Tokenize Punctuation\n",
    "\n",
    "### Lookup Table\n",
    "To create a word embedding, you first need to transform the words to ids.  In this function, create two dictionaries:\n",
    "- Dictionary to go from the words to an id, we'll call `vocab_to_int`\n",
    "- Dictionary to go from the id to word, we'll call `int_to_vocab`\n",
    "\n",
    "Return these dictionaries in the following tuple `(vocab_to_int, int_to_vocab)`"
   ]
  },
  {
   "cell_type": "code",
   "execution_count": 4,
   "metadata": {},
   "outputs": [
    {
     "name": "stdout",
     "output_type": "stream",
     "text": [
      "Tests Passed\n"
     ]
    }
   ],
   "source": [
    "import numpy as np\n",
    "import problem_unittests as tests\n",
    "# added by me\n",
    "from collections import Counter\n",
    "\n",
    "def create_lookup_tables(text):\n",
    "    \"\"\"\n",
    "    Create lookup tables for vocabulary\n",
    "    :param text: The text of tv scripts split into words\n",
    "    :return: A tuple of dicts (vocab_to_int, int_to_vocab)\n",
    "    \"\"\"\n",
    "    # TODO: Implement Function\n",
    "    word_counts = Counter(text)\n",
    "    sorted_vocab = sorted(word_counts, key=word_counts.get, reverse=True)\n",
    "    int_to_vocab = {ii: word for ii, word in enumerate(sorted_vocab)}\n",
    "    vocab_to_int = {word: ii for ii, word in int_to_vocab.items()}\n",
    "    return vocab_to_int, int_to_vocab\n",
    "\n",
    "\n",
    "\"\"\"\n",
    "DON'T MODIFY ANYTHING IN THIS CELL THAT IS BELOW THIS LINE\n",
    "\"\"\"\n",
    "tests.test_create_lookup_tables(create_lookup_tables)"
   ]
  },
  {
   "cell_type": "markdown",
   "metadata": {},
   "source": [
    "### Tokenize Punctuation\n",
    "We'll be splitting the script into a word array using spaces as delimiters.  However, punctuations like periods and exclamation marks make it hard for the neural network to distinguish between the word \"bye\" and \"bye!\".\n",
    "\n",
    "Implement the function `token_lookup` to return a dict that will be used to tokenize symbols like \"!\" into \"||Exclamation_Mark||\".  Create a dictionary for the following symbols where the symbol is the key and value is the token:\n",
    "- Period ( . )\n",
    "- Comma ( , )\n",
    "- Quotation Mark ( \" )\n",
    "- Semicolon ( ; )\n",
    "- Exclamation mark ( ! )\n",
    "- Question mark ( ? )\n",
    "- Left Parentheses ( ( )\n",
    "- Right Parentheses ( ) )\n",
    "- Dash ( -- )\n",
    "- Return ( \\n )\n",
    "\n",
    "This dictionary will be used to token the symbols and add the delimiter (space) around it.  This separates the symbols as it's own word, making it easier for the neural network to predict on the next word. Make sure you don't use a token that could be confused as a word. Instead of using the token \"dash\", try using something like \"||dash||\"."
   ]
  },
  {
   "cell_type": "code",
   "execution_count": 5,
   "metadata": {},
   "outputs": [
    {
     "name": "stdout",
     "output_type": "stream",
     "text": [
      "Tests Passed\n"
     ]
    }
   ],
   "source": [
    "def token_lookup():\n",
    "    \"\"\"\n",
    "    Generate a dict to tburn punctuation into a token.\n",
    "    :return: Tokenize dictionary where the key is the punctuation and the value is the token\n",
    "    \"\"\"\n",
    "    # TODO: Implement Function\n",
    "    token_dict = {'.': '<PERIOD>',\n",
    "                  ',': '<COMMA>',\n",
    "                  '\"': '<QUOTATION_MARK>',\n",
    "                  ';': '<SEMICOLON>',\n",
    "                  '!': '<EXCLAMATION_MARK>',\n",
    "                  '?': '<QUESTION_MARK>',\n",
    "                  '(': '<LEFT_PAREN>',\n",
    "                  ')': '<RIGHT_PAREN>',\n",
    "                  '--': '<HYPHENS>',\n",
    "                  '\\n': '<NEW_LINE>'}\n",
    "    return token_dict\n",
    "\n",
    "\"\"\"\n",
    "DON'T MODIFY ANYTHING IN THIS CELL THAT IS BELOW THIS LINE\n",
    "\"\"\"\n",
    "tests.test_tokenize(token_lookup)"
   ]
  },
  {
   "cell_type": "markdown",
   "metadata": {},
   "source": [
    "## Preprocess all the data and save it\n",
    "Running the code cell below will preprocess all the data and save it to file."
   ]
  },
  {
   "cell_type": "code",
   "execution_count": 6,
   "metadata": {
    "collapsed": true
   },
   "outputs": [],
   "source": [
    "\"\"\"\n",
    "DON'T MODIFY ANYTHING IN THIS CELL\n",
    "\"\"\"\n",
    "# Preprocess Training, Validation, and Testing Data\n",
    "helper.preprocess_and_save_data(data_dir, token_lookup, create_lookup_tables)"
   ]
  },
  {
   "cell_type": "markdown",
   "metadata": {},
   "source": [
    "# Check Point\n",
    "This is your first checkpoint. If you ever decide to come back to this notebook or have to restart the notebook, you can start from here. The preprocessed data has been saved to disk."
   ]
  },
  {
   "cell_type": "code",
   "execution_count": 7,
   "metadata": {
    "collapsed": true
   },
   "outputs": [],
   "source": [
    "\"\"\"\n",
    "DON'T MODIFY ANYTHING IN THIS CELL\n",
    "\"\"\"\n",
    "import helper\n",
    "import numpy as np\n",
    "import problem_unittests as tests\n",
    "\n",
    "int_text, vocab_to_int, int_to_vocab, token_dict = helper.load_preprocess()"
   ]
  },
  {
   "cell_type": "markdown",
   "metadata": {},
   "source": [
    "## Build the Neural Network\n",
    "You'll build the components necessary to build a RNN by implementing the following functions below:\n",
    "- get_inputs\n",
    "- get_init_cell\n",
    "- get_embed\n",
    "- build_rnn\n",
    "- build_nn\n",
    "- get_batches\n",
    "\n",
    "### Check the Version of TensorFlow and Access to GPU"
   ]
  },
  {
   "cell_type": "code",
   "execution_count": 8,
   "metadata": {},
   "outputs": [
    {
     "name": "stdout",
     "output_type": "stream",
     "text": [
      "TensorFlow Version: 1.1.0\n",
      "Default GPU Device: /gpu:0\n"
     ]
    }
   ],
   "source": [
    "\"\"\"\n",
    "DON'T MODIFY ANYTHING IN THIS CELL\n",
    "\"\"\"\n",
    "from distutils.version import LooseVersion\n",
    "import warnings\n",
    "import tensorflow as tf\n",
    "\n",
    "# Check TensorFlow Version\n",
    "assert LooseVersion(tf.__version__) >= LooseVersion('1.0'), 'Please use TensorFlow version 1.0 or newer'\n",
    "print('TensorFlow Version: {}'.format(tf.__version__))\n",
    "\n",
    "# Check for a GPU\n",
    "if not tf.test.gpu_device_name():\n",
    "    warnings.warn('No GPU found. Please use a GPU to train your neural network.')\n",
    "else:\n",
    "    print('Default GPU Device: {}'.format(tf.test.gpu_device_name()))"
   ]
  },
  {
   "cell_type": "markdown",
   "metadata": {},
   "source": [
    "### Input\n",
    "Implement the `get_inputs()` function to create TF Placeholders for the Neural Network.  It should create the following placeholders:\n",
    "- Input text placeholder named \"input\" using the [TF Placeholder](https://www.tensorflow.org/api_docs/python/tf/placeholder) `name` parameter.\n",
    "- Targets placeholder\n",
    "- Learning Rate placeholder\n",
    "\n",
    "Return the placeholders in the following tuple `(Input, Targets, LearningRate)`"
   ]
  },
  {
   "cell_type": "code",
   "execution_count": 9,
   "metadata": {},
   "outputs": [
    {
     "name": "stdout",
     "output_type": "stream",
     "text": [
      "Tests Passed\n"
     ]
    }
   ],
   "source": [
    "def get_inputs():\n",
    "    \"\"\"\n",
    "    Create TF Placeholders for input, targets, and learning rate.\n",
    "    :return: Tuple (input, targets, learning rate)\n",
    "    \"\"\"\n",
    "    # TODO: Implement Function\n",
    "    inputs = tf.placeholder(tf.int32, [None, None], name='input')\n",
    "    targets = tf.placeholder(tf.int32, [None, None], name='targets')\n",
    "    lr = tf.placeholder(tf.float32, name='lr')\n",
    "    return inputs, targets, lr\n",
    "\n",
    "\n",
    "\"\"\"\n",
    "DON'T MODIFY ANYTHING IN THIS CELL THAT IS BELOW THIS LINE\n",
    "\"\"\"\n",
    "tests.test_get_inputs(get_inputs)"
   ]
  },
  {
   "cell_type": "markdown",
   "metadata": {},
   "source": [
    "### Build RNN Cell and Initialize\n",
    "Stack one or more [`BasicLSTMCells`](https://www.tensorflow.org/api_docs/python/tf/contrib/rnn/BasicLSTMCell) in a [`MultiRNNCell`](https://www.tensorflow.org/api_docs/python/tf/contrib/rnn/MultiRNNCell).\n",
    "- The Rnn size should be set using `rnn_size`\n",
    "- Initalize Cell State using the MultiRNNCell's [`zero_state()`](https://www.tensorflow.org/api_docs/python/tf/contrib/rnn/MultiRNNCell#zero_state) function\n",
    "    - Apply the name \"initial_state\" to the initial state using [`tf.identity()`](https://www.tensorflow.org/api_docs/python/tf/identity)\n",
    "\n",
    "Return the cell and initial state in the following tuple `(Cell, InitialState)`"
   ]
  },
  {
   "cell_type": "code",
   "execution_count": 10,
   "metadata": {},
   "outputs": [
    {
     "name": "stdout",
     "output_type": "stream",
     "text": [
      "Tests Passed\n"
     ]
    }
   ],
   "source": [
    "def get_init_cell(batch_size, rnn_size):\n",
    "    \"\"\"\n",
    "    Create an RNN Cell and initialize it.\n",
    "    :param batch_size: Size of batches\n",
    "    :param rnn_size: Size of RNNs\n",
    "    :return: Tuple (cell, initialize state)\n",
    "    \"\"\"\n",
    "    # TODO: Implement Function\n",
    "    cell = tf.contrib.rnn.MultiRNNCell([tf.contrib.rnn.BasicLSTMCell(rnn_size)])\n",
    "    initial_state = tf.identity(cell.zero_state(batch_size, tf.float32), name=\"initial_state\")\n",
    "    return cell, initial_state\n",
    "\n",
    "\n",
    "\"\"\"\n",
    "DON'T MODIFY ANYTHING IN THIS CELL THAT IS BELOW THIS LINE\n",
    "\"\"\"\n",
    "tests.test_get_init_cell(get_init_cell)"
   ]
  },
  {
   "cell_type": "markdown",
   "metadata": {},
   "source": [
    "### Word Embedding\n",
    "Apply embedding to `input_data` using TensorFlow.  Return the embedded sequence."
   ]
  },
  {
   "cell_type": "code",
   "execution_count": 11,
   "metadata": {},
   "outputs": [
    {
     "name": "stdout",
     "output_type": "stream",
     "text": [
      "Tests Passed\n"
     ]
    }
   ],
   "source": [
    "def get_embed(input_data, vocab_size, embed_dim):\n",
    "    \"\"\"\n",
    "    Create embedding for <input_data>.\n",
    "    :param input_data: TF placeholder for text input.\n",
    "    :param vocab_size: Number of words in vocabulary.\n",
    "    :param embed_dim: Number of embedding dimensions\n",
    "    :return: Embedded input.\n",
    "    \"\"\"\n",
    "    # TODO: Implement Function\n",
    "    embedding = tf.Variable(tf.random_uniform((vocab_size, embed_dim), -1, 1))\n",
    "    embed = tf.nn.embedding_lookup(embedding, input_data)\n",
    "    return embed\n",
    "\n",
    "\n",
    "\"\"\"\n",
    "DON'T MODIFY ANYTHING IN THIS CELL THAT IS BELOW THIS LINE\n",
    "\"\"\"\n",
    "tests.test_get_embed(get_embed)"
   ]
  },
  {
   "cell_type": "markdown",
   "metadata": {},
   "source": [
    "### Build RNN\n",
    "You created a RNN Cell in the `get_init_cell()` function.  Time to use the cell to create a RNN.\n",
    "- Build the RNN using the [`tf.nn.dynamic_rnn()`](https://www.tensorflow.org/api_docs/python/tf/nn/dynamic_rnn)\n",
    " - Apply the name \"final_state\" to the final state using [`tf.identity()`](https://www.tensorflow.org/api_docs/python/tf/identity)\n",
    "\n",
    "Return the outputs and final_state state in the following tuple `(Outputs, FinalState)` "
   ]
  },
  {
   "cell_type": "code",
   "execution_count": 12,
   "metadata": {},
   "outputs": [
    {
     "name": "stdout",
     "output_type": "stream",
     "text": [
      "Tests Passed\n"
     ]
    }
   ],
   "source": [
    "def build_rnn(cell, inputs):\n",
    "    \"\"\"\n",
    "    Create a RNN using a RNN Cell\n",
    "    :param cell: RNN Cell\n",
    "    :param inputs: Input text data\n",
    "    :return: Tuple (Outputs, Final State)\n",
    "    \"\"\"\n",
    "    # TODO: Implement Function\n",
    "    outputs, state = tf.nn.dynamic_rnn(cell, inputs, initial_state=None, dtype=tf.float32)\n",
    "    final_state = tf.identity(state, name=\"final_state\")\n",
    "    return outputs, final_state\n",
    "\n",
    "\n",
    "\"\"\"\n",
    "DON'T MODIFY ANYTHING IN THIS CELL THAT IS BELOW THIS LINE\n",
    "\"\"\"\n",
    "tests.test_build_rnn(build_rnn)"
   ]
  },
  {
   "cell_type": "markdown",
   "metadata": {},
   "source": [
    "### Build the Neural Network\n",
    "Apply the functions you implemented above to:\n",
    "- Apply embedding to `input_data` using your `get_embed(input_data, vocab_size, embed_dim)` function.\n",
    "- Build RNN using `cell` and your `build_rnn(cell, inputs)` function.\n",
    "- Apply a fully connected layer with a linear activation and `vocab_size` as the number of outputs.\n",
    "\n",
    "Return the logits and final state in the following tuple (Logits, FinalState) "
   ]
  },
  {
   "cell_type": "code",
   "execution_count": 13,
   "metadata": {},
   "outputs": [
    {
     "name": "stdout",
     "output_type": "stream",
     "text": [
      "Tests Passed\n"
     ]
    }
   ],
   "source": [
    "def build_nn(cell, rnn_size, input_data, vocab_size, embed_dim):\n",
    "    \"\"\"\n",
    "    Build part of the neural network\n",
    "    :param cell: RNN cell\n",
    "    :param rnn_size: Size of rnns\n",
    "    :param input_data: Input data\n",
    "    :param vocab_size: Vocabulary size\n",
    "    :param embed_dim: Number of embedding dimensions\n",
    "    :return: Tuple (Logits, FinalState)\n",
    "    \"\"\"\n",
    "    # TODO: Implement Function\n",
    "    embed = get_embed(input_data, vocab_size, embed_dim)    \n",
    "    outputs, final_state = build_rnn(cell, embed)\n",
    "    logits = tf.contrib.layers.fully_connected(outputs, vocab_size, activation_fn=None)\n",
    "    return logits, final_state\n",
    "\n",
    "\n",
    "\"\"\"\n",
    "DON'T MODIFY ANYTHING IN THIS CELL THAT IS BELOW THIS LINE\n",
    "\"\"\"\n",
    "tests.test_build_nn(build_nn)"
   ]
  },
  {
   "cell_type": "markdown",
   "metadata": {},
   "source": [
    "### Batches\n",
    "Implement `get_batches` to create batches of input and targets using `int_text`.  The batches should be a Numpy array with the shape `(number of batches, 2, batch size, sequence length)`. Each batch contains two elements:\n",
    "- The first element is a single batch of **input** with the shape `[batch size, sequence length]`\n",
    "- The second element is a single batch of **targets** with the shape `[batch size, sequence length]`\n",
    "\n",
    "If you can't fill the last batch with enough data, drop the last batch.\n",
    "\n",
    "For exmple, `get_batches([1, 2, 3, 4, 5, 6, 7, 8, 9, 10, 11, 12, 13, 14, 15, 16, 17, 18, 19, 20], 3, 2)` would return a Numpy array of the following:\n",
    "```\n",
    "[\n",
    "  # First Batch\n",
    "  [\n",
    "    # Batch of Input\n",
    "    [[ 1  2], [ 7  8], [13 14]]\n",
    "    # Batch of targets\n",
    "    [[ 2  3], [ 8  9], [14 15]]\n",
    "  ]\n",
    "\n",
    "  # Second Batch\n",
    "  [\n",
    "    # Batch of Input\n",
    "    [[ 3  4], [ 9 10], [15 16]]\n",
    "    # Batch of targets\n",
    "    [[ 4  5], [10 11], [16 17]]\n",
    "  ]\n",
    "\n",
    "  # Third Batch\n",
    "  [\n",
    "    # Batch of Input\n",
    "    [[ 5  6], [11 12], [17 18]]\n",
    "    # Batch of targets\n",
    "    [[ 6  7], [12 13], [18  1]]\n",
    "  ]\n",
    "]\n",
    "```\n",
    "\n",
    "Notice that the last target value in the last batch is the first input value of the first batch. In this case, `1`. This is a common technique used when creating sequence batches, although it is rather unintuitive."
   ]
  },
  {
   "cell_type": "code",
   "execution_count": 15,
   "metadata": {},
   "outputs": [
    {
     "data": {
      "text/plain": [
       "'\\nint_text = [1, 2, 3, 4, 5, 6, 7, 8, 9, 10, 11, 12, 13, 14, 15, 16, 17, 18, 19, 20]\\nbatch_size = 3\\nseq_length =2\\n\\narr=int_text\\nn_seqs=batch_size\\nn_steps=seq_length\\n\\narr = np.array(arr, dtype=np.int32)\\ncharacters_per_batch = n_seqs * n_steps\\nn_batches = len(arr)//characters_per_batch\\n\\n# Keep only enough characters to make full batches\\narr = arr[:n_batches * characters_per_batch]\\n# Reshape into n_seqs rows\\narr = arr.reshape((n_seqs, -1))\\nprint(arr)\\nprint (range(0, arr.shape[1], n_steps))\\nfor n in range(0, arr.shape[1], n_steps):\\n    #print (n)\\n    # The features\\n    x = arr[:, n:n+n_steps]\\n    print (x)\\n    # The targets, shifted by two\\n    y = np.zeros_like(x)\\n    y[:, :-1], y[:, -1] = x[:, 1:], x[:, 0]\\n    print (y)\\n    #yield (x, y)\\n'"
      ]
     },
     "execution_count": 15,
     "metadata": {},
     "output_type": "execute_result"
    }
   ],
   "source": [
    "\"\"\"#Testing\n",
    "\n",
    "int_text = [1, 2, 3, 4, 5, 6, 7, 8, 9, 10, 11, 12, 13, 14, 15, 16, 17, 18, 19, 20]\n",
    "batch_size = 3\n",
    "seq_length =2\n",
    "\n",
    "arr=int_text\n",
    "n_seqs=batch_size\n",
    "n_steps=seq_length\n",
    "\n",
    "arr = np.array(arr, dtype=np.int32)\n",
    "characters_per_batch = n_seqs * n_steps\n",
    "n_batches = len(arr)//characters_per_batch\n",
    "\n",
    "# Keep only enough characters to make full batches\n",
    "arr = arr[:n_batches * characters_per_batch]\n",
    "# Reshape into n_seqs rows\n",
    "arr = arr.reshape((n_seqs, -1))\n",
    "print(arr)\n",
    "print (range(0, arr.shape[1], n_steps))\n",
    "for n in range(0, arr.shape[1], n_steps):\n",
    "    #print (n)\n",
    "    # The features\n",
    "    x = arr[:, n:n+n_steps]\n",
    "    print (x)\n",
    "    # The targets, shifted by two\n",
    "    y = np.zeros_like(x)\n",
    "    y[:, :-1], y[:, -1] = x[:, 1:], x[:, 0]\n",
    "    print (y)\n",
    "    #yield (x, y)\n",
    "\"\"\""
   ]
  },
  {
   "cell_type": "code",
   "execution_count": 16,
   "metadata": {},
   "outputs": [
    {
     "data": {
      "text/plain": [
       "'\\nint_text = [1, 2, 3, 4, 5, 6, 7, 8, 9, 10, 11, 12, 13, 14, 15, 16, 17, 18, 19, 20]\\nbatch_size = 3\\nseq_length =2\\n\\nbatch_size = 128\\nseq_length =5\\nint_text = list(range(1000*seq_length))\\n\\nn_batches = len(int_text)//batch_size\\nprint(n_batches)\\nint_text = np.array(int_text[:n_batches*batch_size])\\narr = int_text\\n#int_text = np.append(np.array(int_text[:n_batches*batch_size]), np.array(int_text[:batch_size*seq_length]))\\n#int_text = int_text.reshape(((batch_size+1), -1))\\nint_text = np.array(int_text[:n_batches*batch_size])\\nint_text = int_text.reshape((batch_size, -1))\\nnew_array = np.empty(shape=(batch_size,n_batches+1), dtype=int)\\n\\nfor m in range(0, batch_size):\\n    if batch_size*seq_length*(m+1) < n_batches*batch_size:\\n        new_array[m]=np.append(int_text[m],arr[batch_size*seq_length*(m+1)])\\n    else:\\n        new_array[m]=np.append(int_text[m],arr[0])\\n#print(new_array)\\nint_text = new_array\\n\\nfor n in range(0, n_batches, seq_length):\\n    # The features\\n    y = int_text[:, n:n+seq_length+1]\\n    # The targaets, shifted by one\\n    x = np.zeros_like(y)\\n    x[:, :-1] = y[:, :-1]\\n    #print (x[:, :-1])\\n    #print (y[:, 1:])\\n    #print (\"---\")\\n    print(np.array(list(zip(x[:, :-1], y[:, 1:]))).shape)\\n'"
      ]
     },
     "execution_count": 16,
     "metadata": {},
     "output_type": "execute_result"
    }
   ],
   "source": [
    "\"\"\"#Testing\n",
    "int_text = [1, 2, 3, 4, 5, 6, 7, 8, 9, 10, 11, 12, 13, 14, 15, 16, 17, 18, 19, 20]\n",
    "batch_size = 3\n",
    "seq_length =2\n",
    "\n",
    "batch_size = 128\n",
    "seq_length =5\n",
    "int_text = list(range(1000*seq_length))\n",
    "\n",
    "n_batches = len(int_text)//batch_size\n",
    "print(n_batches)\n",
    "int_text = np.array(int_text[:n_batches*batch_size])\n",
    "arr = int_text\n",
    "#int_text = np.append(np.array(int_text[:n_batches*batch_size]), np.array(int_text[:batch_size*seq_length]))\n",
    "#int_text = int_text.reshape(((batch_size+1), -1))\n",
    "int_text = np.array(int_text[:n_batches*batch_size])\n",
    "int_text = int_text.reshape((batch_size, -1))\n",
    "new_array = np.empty(shape=(batch_size,n_batches+1), dtype=int)\n",
    "\n",
    "for m in range(0, batch_size):\n",
    "    if batch_size*seq_length*(m+1) < n_batches*batch_size:\n",
    "        new_array[m]=np.append(int_text[m],arr[batch_size*seq_length*(m+1)])\n",
    "    else:\n",
    "        new_array[m]=np.append(int_text[m],arr[0])\n",
    "#print(new_array)\n",
    "int_text = new_array\n",
    "\n",
    "for n in range(0, n_batches, seq_length):\n",
    "    # The features\n",
    "    y = int_text[:, n:n+seq_length+1]\n",
    "    # The targaets, shifted by one\n",
    "    x = np.zeros_like(y)\n",
    "    x[:, :-1] = y[:, :-1]\n",
    "    #print (x[:, :-1])\n",
    "    #print (y[:, 1:])\n",
    "    #print (\"---\")\n",
    "    print(np.array(list(zip(x[:, :-1], y[:, 1:]))).shape)\n",
    "\"\"\""
   ]
  },
  {
   "cell_type": "code",
   "execution_count": 17,
   "metadata": {},
   "outputs": [
    {
     "data": {
      "text/plain": [
       "'\\nbatch_size = 128\\nseq_length =5\\nint_text = list(range(1000*seq_length))\\n\\nbatches = len(int_text) // (batch_size * seq_length)\\n#print(batches)\\n\\ninput_ = np.array(int_text[: (batches*batch_size*seq_length)])\\n#print(input_)\\ntarget_ = np.array(int_text[1 : (batches*batch_size*seq_length)+1])\\n#print(target_)\\ntarget_[-1] = input_[0]\\n#print(input_[0])\\n\\ninput_ = input_.reshape(batch_size, -1)\\n#print(input_)\\ntarget_ = target_.reshape(batch_size, -1)\\n#print(target_)\\n\\ninput_ = np.split(input_, batches, -1)\\n#print(input_)\\ntarget_ = np.split(target_, batches, -1)\\n\\nbatches = np.array(list(zip(input_, target_)))\\n'"
      ]
     },
     "execution_count": 17,
     "metadata": {},
     "output_type": "execute_result"
    }
   ],
   "source": [
    "\"\"\"#Testing\n",
    "batch_size = 128\n",
    "seq_length =5\n",
    "int_text = list(range(1000*seq_length))\n",
    "\n",
    "batches = len(int_text) // (batch_size * seq_length)\n",
    "#print(batches)\n",
    "\n",
    "input_ = np.array(int_text[: (batches*batch_size*seq_length)])\n",
    "#print(input_)\n",
    "target_ = np.array(int_text[1 : (batches*batch_size*seq_length)+1])\n",
    "#print(target_)\n",
    "target_[-1] = input_[0]\n",
    "#print(input_[0])\n",
    "\n",
    "input_ = input_.reshape(batch_size, -1)\n",
    "#print(input_)\n",
    "target_ = target_.reshape(batch_size, -1)\n",
    "#print(target_)\n",
    "\n",
    "input_ = np.split(input_, batches, -1)\n",
    "#print(input_)\n",
    "target_ = np.split(target_, batches, -1)\n",
    "\n",
    "batches = np.array(list(zip(input_, target_)))\n",
    "\"\"\""
   ]
  },
  {
   "cell_type": "code",
   "execution_count": 14,
   "metadata": {},
   "outputs": [
    {
     "name": "stdout",
     "output_type": "stream",
     "text": [
      "Tests Passed\n"
     ]
    }
   ],
   "source": [
    "def get_batches(int_text, batch_size, seq_length):\n",
    "    \"\"\"\n",
    "    Return batches of input and target\n",
    "    :param int_text: Text with the words replaced by their ids\n",
    "    :param batch_size: The size of batch\n",
    "    :param seq_length: The length of sequence\n",
    "    :return: Batches as a Numpy array\n",
    "    \"\"\"\n",
    "    # TODO: Implement Function\n",
    "    # References: \n",
    "    # http://www.danag.co/dlnd_tv_script_generation.html\n",
    "    # https://slack-files.com/T3Q738VV1-F4P1VE8SY-6f4e7770d0\n",
    "    # https://github.com/udacity/deep-learning/blob/master/sentiment-rnn/Sentiment_RNN_Solution.ipynb\n",
    "    # https://github.com/udacity/deep-learning/blob/master/embeddings/Skip-Grams-Solution.ipynb\n",
    "    # https://github.com/udacity/deep-learning/blob/master/intro-to-rnns/Anna_KaRNNa.ipynb\n",
    "    \n",
    "    n_batches = len(int_text)//(batch_size * seq_length)\n",
    "    input_arr = np.array(int_text[: (n_batches*batch_size*seq_length)])\n",
    "    target_arr = np.array(int_text[1 : (n_batches*batch_size*seq_length)+1])\n",
    "    target_arr[-1] = input_arr[0]\n",
    "\n",
    "    input_arr = input_arr.reshape(batch_size, -1)\n",
    "    target_arr = target_arr.reshape(batch_size, -1)\n",
    "    input_arr = np.split(input_arr, n_batches, -1)\n",
    "    target_arr = np.split(target_arr, n_batches, -1)\n",
    "    \n",
    "    #print (np.array(list(zip(input_arr, target_arr))))\n",
    "    #print (batches.shape)\n",
    "    return np.array(list(zip(input_arr, target_arr)))\n",
    "\n",
    "\"\"\"\n",
    "    int_text = np.array(int_text, dtype=np.int32)\n",
    "    n_batches = len(int_text)//batch_size\n",
    "    int_text = int_text[:n_batches*batch_size]\n",
    "    \n",
    "    # Reshape into n_seqs rows\n",
    "    int_text = int_text.reshape((batch_size, -1))\n",
    "    \n",
    "    for n in range(0, int_text.shape[1], seq_length):\n",
    "        # The features\n",
    "        x = int_text[:, n:n+seq_length]\n",
    "        # The targaets, shifted by one\n",
    "        y = np.zeros_like(x)\n",
    "        y[:, :-1], y[:, -1] = x[:, 1:], x[:, 0]\n",
    "        print(np.array(list(zip(x,y))).shape)\n",
    "        return np.array(list(zip(x,y)))\n",
    "\"\"\"\n",
    "\n",
    "\"\"\"\n",
    "DON'T MODIFY ANYTHING IN THIS CELL THAT IS BELOW THIS LINE\n",
    "\"\"\"\n",
    "tests.test_get_batches(get_batches)"
   ]
  },
  {
   "cell_type": "markdown",
   "metadata": {},
   "source": [
    "## Neural Network Training\n",
    "### Hyperparameters\n",
    "Tune the following parameters:\n",
    "\n",
    "- Set `num_epochs` to the number of epochs.\n",
    "- Set `batch_size` to the batch size.\n",
    "- Set `rnn_size` to the size of the RNNs.\n",
    "- Set `embed_dim` to the size of the embedding.\n",
    "- Set `seq_length` to the length of sequence.\n",
    "- Set `learning_rate` to the learning rate.\n",
    "- Set `show_every_n_batches` to the number of batches the neural network should print progress."
   ]
  },
  {
   "cell_type": "code",
   "execution_count": 21,
   "metadata": {
    "collapsed": true
   },
   "outputs": [],
   "source": [
    "# Number of Epochs\n",
    "num_epochs = 20\n",
    "# Batch Size\n",
    "batch_size = 100\n",
    "# RNN Size\n",
    "rnn_size = 512\n",
    "# Embedding Dimension Size\n",
    "embed_dim = 300\n",
    "# Sequence Length\n",
    "seq_length = 10\n",
    "# Learning Rate\n",
    "learning_rate = 0.01\n",
    "# Show stats for every n number of batches\n",
    "show_every_n_batches = 5\n",
    "\n",
    "\"\"\"\n",
    "DON'T MODIFY ANYTHING IN THIS CELL THAT IS BELOW THIS LINE\n",
    "\"\"\"\n",
    "save_dir = './save'"
   ]
  },
  {
   "cell_type": "markdown",
   "metadata": {},
   "source": [
    "### Build the Graph\n",
    "Build the graph using the neural network you implemented."
   ]
  },
  {
   "cell_type": "code",
   "execution_count": 22,
   "metadata": {
    "collapsed": true
   },
   "outputs": [],
   "source": [
    "\"\"\"\n",
    "DON'T MODIFY ANYTHING IN THIS CELL\n",
    "\"\"\"\n",
    "from tensorflow.contrib import seq2seq\n",
    "\n",
    "train_graph = tf.Graph()\n",
    "with train_graph.as_default():\n",
    "    vocab_size = len(int_to_vocab)\n",
    "    input_text, targets, lr = get_inputs()\n",
    "    input_data_shape = tf.shape(input_text)\n",
    "    cell, initial_state = get_init_cell(input_data_shape[0], rnn_size)\n",
    "    logits, final_state = build_nn(cell, rnn_size, input_text, vocab_size, embed_dim)\n",
    "\n",
    "    # Probabilities for generating words\n",
    "    probs = tf.nn.softmax(logits, name='probs')\n",
    "\n",
    "    # Loss function\n",
    "    cost = seq2seq.sequence_loss(\n",
    "        logits,\n",
    "        targets,\n",
    "        tf.ones([input_data_shape[0], input_data_shape[1]]))\n",
    "\n",
    "    # Optimizer\n",
    "    optimizer = tf.train.AdamOptimizer(lr)\n",
    "\n",
    "    # Gradient Clipping\n",
    "    gradients = optimizer.compute_gradients(cost)\n",
    "    capped_gradients = [(tf.clip_by_value(grad, -1., 1.), var) for grad, var in gradients if grad is not None]\n",
    "    train_op = optimizer.apply_gradients(capped_gradients)"
   ]
  },
  {
   "cell_type": "markdown",
   "metadata": {},
   "source": [
    "## Train\n",
    "Train the neural network on the preprocessed data.  If you have a hard time getting a good loss, check the [forums](https://discussions.udacity.com/) to see if anyone is having the same problem."
   ]
  },
  {
   "cell_type": "code",
   "execution_count": 23,
   "metadata": {},
   "outputs": [
    {
     "name": "stdout",
     "output_type": "stream",
     "text": [
      "Epoch   0 Batch    0/69   train_loss = 8.818\n",
      "Epoch   0 Batch    5/69   train_loss = 6.081\n",
      "Epoch   0 Batch   10/69   train_loss = 6.040\n",
      "Epoch   0 Batch   15/69   train_loss = 5.704\n",
      "Epoch   0 Batch   20/69   train_loss = 5.615\n",
      "Epoch   0 Batch   25/69   train_loss = 5.319\n",
      "Epoch   0 Batch   30/69   train_loss = 5.227\n",
      "Epoch   0 Batch   35/69   train_loss = 5.350\n",
      "Epoch   0 Batch   40/69   train_loss = 5.187\n",
      "Epoch   0 Batch   45/69   train_loss = 5.204\n",
      "Epoch   0 Batch   50/69   train_loss = 5.084\n",
      "Epoch   0 Batch   55/69   train_loss = 4.989\n",
      "Epoch   0 Batch   60/69   train_loss = 5.131\n",
      "Epoch   0 Batch   65/69   train_loss = 4.862\n",
      "Epoch   1 Batch    1/69   train_loss = 4.610\n",
      "Epoch   1 Batch    6/69   train_loss = 4.812\n",
      "Epoch   1 Batch   11/69   train_loss = 4.522\n",
      "Epoch   1 Batch   16/69   train_loss = 4.493\n",
      "Epoch   1 Batch   21/69   train_loss = 4.460\n",
      "Epoch   1 Batch   26/69   train_loss = 4.296\n",
      "Epoch   1 Batch   31/69   train_loss = 4.331\n",
      "Epoch   1 Batch   36/69   train_loss = 4.321\n",
      "Epoch   1 Batch   41/69   train_loss = 4.345\n",
      "Epoch   1 Batch   46/69   train_loss = 4.279\n",
      "Epoch   1 Batch   51/69   train_loss = 4.281\n",
      "Epoch   1 Batch   56/69   train_loss = 4.343\n",
      "Epoch   1 Batch   61/69   train_loss = 4.299\n",
      "Epoch   1 Batch   66/69   train_loss = 4.163\n",
      "Epoch   2 Batch    2/69   train_loss = 4.085\n",
      "Epoch   2 Batch    7/69   train_loss = 3.944\n",
      "Epoch   2 Batch   12/69   train_loss = 3.860\n",
      "Epoch   2 Batch   17/69   train_loss = 3.951\n",
      "Epoch   2 Batch   22/69   train_loss = 3.903\n",
      "Epoch   2 Batch   27/69   train_loss = 3.785\n",
      "Epoch   2 Batch   32/69   train_loss = 3.749\n",
      "Epoch   2 Batch   37/69   train_loss = 3.646\n",
      "Epoch   2 Batch   42/69   train_loss = 3.539\n",
      "Epoch   2 Batch   47/69   train_loss = 3.473\n",
      "Epoch   2 Batch   52/69   train_loss = 3.378\n",
      "Epoch   2 Batch   57/69   train_loss = 3.451\n",
      "Epoch   2 Batch   62/69   train_loss = 3.449\n",
      "Epoch   2 Batch   67/69   train_loss = 3.503\n",
      "Epoch   3 Batch    3/69   train_loss = 3.309\n",
      "Epoch   3 Batch    8/69   train_loss = 3.407\n",
      "Epoch   3 Batch   13/69   train_loss = 3.381\n",
      "Epoch   3 Batch   18/69   train_loss = 3.311\n",
      "Epoch   3 Batch   23/69   train_loss = 3.287\n",
      "Epoch   3 Batch   28/69   train_loss = 3.171\n",
      "Epoch   3 Batch   33/69   train_loss = 3.273\n",
      "Epoch   3 Batch   38/69   train_loss = 3.078\n",
      "Epoch   3 Batch   43/69   train_loss = 3.206\n",
      "Epoch   3 Batch   48/69   train_loss = 3.135\n",
      "Epoch   3 Batch   53/69   train_loss = 2.999\n",
      "Epoch   3 Batch   58/69   train_loss = 3.070\n",
      "Epoch   3 Batch   63/69   train_loss = 2.959\n",
      "Epoch   3 Batch   68/69   train_loss = 2.986\n",
      "Epoch   4 Batch    4/69   train_loss = 2.979\n",
      "Epoch   4 Batch    9/69   train_loss = 2.927\n",
      "Epoch   4 Batch   14/69   train_loss = 2.881\n",
      "Epoch   4 Batch   19/69   train_loss = 3.102\n",
      "Epoch   4 Batch   24/69   train_loss = 2.884\n",
      "Epoch   4 Batch   29/69   train_loss = 2.867\n",
      "Epoch   4 Batch   34/69   train_loss = 2.841\n",
      "Epoch   4 Batch   39/69   train_loss = 2.724\n",
      "Epoch   4 Batch   44/69   train_loss = 2.812\n",
      "Epoch   4 Batch   49/69   train_loss = 2.774\n",
      "Epoch   4 Batch   54/69   train_loss = 2.714\n",
      "Epoch   4 Batch   59/69   train_loss = 2.645\n",
      "Epoch   4 Batch   64/69   train_loss = 2.738\n",
      "Epoch   5 Batch    0/69   train_loss = 2.590\n",
      "Epoch   5 Batch    5/69   train_loss = 2.628\n",
      "Epoch   5 Batch   10/69   train_loss = 2.622\n",
      "Epoch   5 Batch   15/69   train_loss = 2.612\n",
      "Epoch   5 Batch   20/69   train_loss = 2.633\n",
      "Epoch   5 Batch   25/69   train_loss = 2.575\n",
      "Epoch   5 Batch   30/69   train_loss = 2.598\n",
      "Epoch   5 Batch   35/69   train_loss = 2.652\n",
      "Epoch   5 Batch   40/69   train_loss = 2.528\n",
      "Epoch   5 Batch   45/69   train_loss = 2.482\n",
      "Epoch   5 Batch   50/69   train_loss = 2.399\n",
      "Epoch   5 Batch   55/69   train_loss = 2.346\n",
      "Epoch   5 Batch   60/69   train_loss = 2.296\n",
      "Epoch   5 Batch   65/69   train_loss = 2.286\n",
      "Epoch   6 Batch    1/69   train_loss = 2.465\n",
      "Epoch   6 Batch    6/69   train_loss = 2.330\n",
      "Epoch   6 Batch   11/69   train_loss = 2.219\n",
      "Epoch   6 Batch   16/69   train_loss = 2.355\n",
      "Epoch   6 Batch   21/69   train_loss = 2.306\n",
      "Epoch   6 Batch   26/69   train_loss = 2.289\n",
      "Epoch   6 Batch   31/69   train_loss = 2.266\n",
      "Epoch   6 Batch   36/69   train_loss = 2.100\n",
      "Epoch   6 Batch   41/69   train_loss = 2.233\n",
      "Epoch   6 Batch   46/69   train_loss = 2.071\n",
      "Epoch   6 Batch   51/69   train_loss = 2.102\n",
      "Epoch   6 Batch   56/69   train_loss = 2.054\n",
      "Epoch   6 Batch   61/69   train_loss = 2.043\n",
      "Epoch   6 Batch   66/69   train_loss = 2.080\n",
      "Epoch   7 Batch    2/69   train_loss = 2.178\n",
      "Epoch   7 Batch    7/69   train_loss = 2.004\n",
      "Epoch   7 Batch   12/69   train_loss = 2.034\n",
      "Epoch   7 Batch   17/69   train_loss = 1.985\n",
      "Epoch   7 Batch   22/69   train_loss = 1.996\n",
      "Epoch   7 Batch   27/69   train_loss = 1.958\n",
      "Epoch   7 Batch   32/69   train_loss = 1.922\n",
      "Epoch   7 Batch   37/69   train_loss = 1.830\n",
      "Epoch   7 Batch   42/69   train_loss = 1.860\n",
      "Epoch   7 Batch   47/69   train_loss = 1.768\n",
      "Epoch   7 Batch   52/69   train_loss = 1.864\n",
      "Epoch   7 Batch   57/69   train_loss = 1.757\n",
      "Epoch   7 Batch   62/69   train_loss = 1.784\n",
      "Epoch   7 Batch   67/69   train_loss = 1.696\n",
      "Epoch   8 Batch    3/69   train_loss = 1.710\n",
      "Epoch   8 Batch    8/69   train_loss = 1.771\n",
      "Epoch   8 Batch   13/69   train_loss = 1.582\n",
      "Epoch   8 Batch   18/69   train_loss = 1.651\n",
      "Epoch   8 Batch   23/69   train_loss = 1.698\n",
      "Epoch   8 Batch   28/69   train_loss = 1.664\n",
      "Epoch   8 Batch   33/69   train_loss = 1.521\n",
      "Epoch   8 Batch   38/69   train_loss = 1.486\n",
      "Epoch   8 Batch   43/69   train_loss = 1.670\n",
      "Epoch   8 Batch   48/69   train_loss = 1.515\n",
      "Epoch   8 Batch   53/69   train_loss = 1.467\n",
      "Epoch   8 Batch   58/69   train_loss = 1.464\n",
      "Epoch   8 Batch   63/69   train_loss = 1.502\n",
      "Epoch   8 Batch   68/69   train_loss = 1.419\n",
      "Epoch   9 Batch    4/69   train_loss = 1.310\n",
      "Epoch   9 Batch    9/69   train_loss = 1.309\n",
      "Epoch   9 Batch   14/69   train_loss = 1.404\n",
      "Epoch   9 Batch   19/69   train_loss = 1.471\n",
      "Epoch   9 Batch   24/69   train_loss = 1.360\n",
      "Epoch   9 Batch   29/69   train_loss = 1.361\n",
      "Epoch   9 Batch   34/69   train_loss = 1.300\n",
      "Epoch   9 Batch   39/69   train_loss = 1.303\n",
      "Epoch   9 Batch   44/69   train_loss = 1.360\n",
      "Epoch   9 Batch   49/69   train_loss = 1.259\n",
      "Epoch   9 Batch   54/69   train_loss = 1.224\n",
      "Epoch   9 Batch   59/69   train_loss = 1.206\n",
      "Epoch   9 Batch   64/69   train_loss = 1.247\n",
      "Epoch  10 Batch    0/69   train_loss = 1.146\n",
      "Epoch  10 Batch    5/69   train_loss = 1.245\n",
      "Epoch  10 Batch   10/69   train_loss = 1.132\n",
      "Epoch  10 Batch   15/69   train_loss = 1.133\n",
      "Epoch  10 Batch   20/69   train_loss = 1.094\n",
      "Epoch  10 Batch   25/69   train_loss = 1.137\n",
      "Epoch  10 Batch   30/69   train_loss = 1.173\n",
      "Epoch  10 Batch   35/69   train_loss = 1.164\n",
      "Epoch  10 Batch   40/69   train_loss = 1.132\n",
      "Epoch  10 Batch   45/69   train_loss = 1.028\n",
      "Epoch  10 Batch   50/69   train_loss = 1.039\n",
      "Epoch  10 Batch   55/69   train_loss = 1.006\n",
      "Epoch  10 Batch   60/69   train_loss = 1.019\n",
      "Epoch  10 Batch   65/69   train_loss = 1.055\n",
      "Epoch  11 Batch    1/69   train_loss = 1.073\n",
      "Epoch  11 Batch    6/69   train_loss = 0.979\n",
      "Epoch  11 Batch   11/69   train_loss = 0.894\n",
      "Epoch  11 Batch   16/69   train_loss = 1.016\n",
      "Epoch  11 Batch   21/69   train_loss = 0.988\n",
      "Epoch  11 Batch   26/69   train_loss = 1.053\n",
      "Epoch  11 Batch   31/69   train_loss = 0.975\n",
      "Epoch  11 Batch   36/69   train_loss = 0.923\n",
      "Epoch  11 Batch   41/69   train_loss = 0.924\n",
      "Epoch  11 Batch   46/69   train_loss = 0.856\n",
      "Epoch  11 Batch   51/69   train_loss = 0.894\n",
      "Epoch  11 Batch   56/69   train_loss = 0.839\n",
      "Epoch  11 Batch   61/69   train_loss = 0.834\n",
      "Epoch  11 Batch   66/69   train_loss = 0.910\n",
      "Epoch  12 Batch    2/69   train_loss = 0.926\n",
      "Epoch  12 Batch    7/69   train_loss = 0.910\n",
      "Epoch  12 Batch   12/69   train_loss = 0.892\n",
      "Epoch  12 Batch   17/69   train_loss = 0.806\n",
      "Epoch  12 Batch   22/69   train_loss = 0.842\n",
      "Epoch  12 Batch   27/69   train_loss = 0.882\n",
      "Epoch  12 Batch   32/69   train_loss = 0.831\n",
      "Epoch  12 Batch   37/69   train_loss = 0.807\n",
      "Epoch  12 Batch   42/69   train_loss = 0.829\n",
      "Epoch  12 Batch   47/69   train_loss = 0.818\n",
      "Epoch  12 Batch   52/69   train_loss = 0.838\n",
      "Epoch  12 Batch   57/69   train_loss = 0.802\n",
      "Epoch  12 Batch   62/69   train_loss = 0.835\n",
      "Epoch  12 Batch   67/69   train_loss = 0.789\n",
      "Epoch  13 Batch    3/69   train_loss = 0.742\n",
      "Epoch  13 Batch    8/69   train_loss = 0.806\n",
      "Epoch  13 Batch   13/69   train_loss = 0.702\n"
     ]
    },
    {
     "name": "stdout",
     "output_type": "stream",
     "text": [
      "Epoch  13 Batch   18/69   train_loss = 0.804\n",
      "Epoch  13 Batch   23/69   train_loss = 0.834\n",
      "Epoch  13 Batch   28/69   train_loss = 0.763\n",
      "Epoch  13 Batch   33/69   train_loss = 0.771\n",
      "Epoch  13 Batch   38/69   train_loss = 0.744\n",
      "Epoch  13 Batch   43/69   train_loss = 0.794\n",
      "Epoch  13 Batch   48/69   train_loss = 0.682\n",
      "Epoch  13 Batch   53/69   train_loss = 0.723\n",
      "Epoch  13 Batch   58/69   train_loss = 0.728\n",
      "Epoch  13 Batch   63/69   train_loss = 0.739\n",
      "Epoch  13 Batch   68/69   train_loss = 0.693\n",
      "Epoch  14 Batch    4/69   train_loss = 0.617\n",
      "Epoch  14 Batch    9/69   train_loss = 0.686\n",
      "Epoch  14 Batch   14/69   train_loss = 0.710\n",
      "Epoch  14 Batch   19/69   train_loss = 0.740\n",
      "Epoch  14 Batch   24/69   train_loss = 0.738\n",
      "Epoch  14 Batch   29/69   train_loss = 0.669\n",
      "Epoch  14 Batch   34/69   train_loss = 0.739\n",
      "Epoch  14 Batch   39/69   train_loss = 0.723\n",
      "Epoch  14 Batch   44/69   train_loss = 0.708\n",
      "Epoch  14 Batch   49/69   train_loss = 0.664\n",
      "Epoch  14 Batch   54/69   train_loss = 0.646\n",
      "Epoch  14 Batch   59/69   train_loss = 0.678\n",
      "Epoch  14 Batch   64/69   train_loss = 0.611\n",
      "Epoch  15 Batch    0/69   train_loss = 0.632\n",
      "Epoch  15 Batch    5/69   train_loss = 0.664\n",
      "Epoch  15 Batch   10/69   train_loss = 0.640\n",
      "Epoch  15 Batch   15/69   train_loss = 0.621\n",
      "Epoch  15 Batch   20/69   train_loss = 0.588\n",
      "Epoch  15 Batch   25/69   train_loss = 0.631\n",
      "Epoch  15 Batch   30/69   train_loss = 0.658\n",
      "Epoch  15 Batch   35/69   train_loss = 0.669\n",
      "Epoch  15 Batch   40/69   train_loss = 0.651\n",
      "Epoch  15 Batch   45/69   train_loss = 0.600\n",
      "Epoch  15 Batch   50/69   train_loss = 0.610\n",
      "Epoch  15 Batch   55/69   train_loss = 0.605\n",
      "Epoch  15 Batch   60/69   train_loss = 0.601\n",
      "Epoch  15 Batch   65/69   train_loss = 0.602\n",
      "Epoch  16 Batch    1/69   train_loss = 0.661\n",
      "Epoch  16 Batch    6/69   train_loss = 0.595\n",
      "Epoch  16 Batch   11/69   train_loss = 0.562\n",
      "Epoch  16 Batch   16/69   train_loss = 0.618\n",
      "Epoch  16 Batch   21/69   train_loss = 0.647\n",
      "Epoch  16 Batch   26/69   train_loss = 0.637\n",
      "Epoch  16 Batch   31/69   train_loss = 0.611\n",
      "Epoch  16 Batch   36/69   train_loss = 0.591\n",
      "Epoch  16 Batch   41/69   train_loss = 0.615\n",
      "Epoch  16 Batch   46/69   train_loss = 0.550\n",
      "Epoch  16 Batch   51/69   train_loss = 0.572\n",
      "Epoch  16 Batch   56/69   train_loss = 0.520\n",
      "Epoch  16 Batch   61/69   train_loss = 0.559\n",
      "Epoch  16 Batch   66/69   train_loss = 0.612\n",
      "Epoch  17 Batch    2/69   train_loss = 0.601\n",
      "Epoch  17 Batch    7/69   train_loss = 0.569\n",
      "Epoch  17 Batch   12/69   train_loss = 0.592\n",
      "Epoch  17 Batch   17/69   train_loss = 0.553\n",
      "Epoch  17 Batch   22/69   train_loss = 0.553\n",
      "Epoch  17 Batch   27/69   train_loss = 0.591\n",
      "Epoch  17 Batch   32/69   train_loss = 0.526\n",
      "Epoch  17 Batch   37/69   train_loss = 0.535\n",
      "Epoch  17 Batch   42/69   train_loss = 0.515\n",
      "Epoch  17 Batch   47/69   train_loss = 0.558\n",
      "Epoch  17 Batch   52/69   train_loss = 0.581\n",
      "Epoch  17 Batch   57/69   train_loss = 0.547\n",
      "Epoch  17 Batch   62/69   train_loss = 0.573\n",
      "Epoch  17 Batch   67/69   train_loss = 0.546\n",
      "Epoch  18 Batch    3/69   train_loss = 0.493\n",
      "Epoch  18 Batch    8/69   train_loss = 0.592\n",
      "Epoch  18 Batch   13/69   train_loss = 0.510\n",
      "Epoch  18 Batch   18/69   train_loss = 0.564\n",
      "Epoch  18 Batch   23/69   train_loss = 0.580\n",
      "Epoch  18 Batch   28/69   train_loss = 0.514\n",
      "Epoch  18 Batch   33/69   train_loss = 0.580\n",
      "Epoch  18 Batch   38/69   train_loss = 0.518\n",
      "Epoch  18 Batch   43/69   train_loss = 0.587\n",
      "Epoch  18 Batch   48/69   train_loss = 0.508\n",
      "Epoch  18 Batch   53/69   train_loss = 0.533\n",
      "Epoch  18 Batch   58/69   train_loss = 0.561\n",
      "Epoch  18 Batch   63/69   train_loss = 0.549\n",
      "Epoch  18 Batch   68/69   train_loss = 0.526\n",
      "Epoch  19 Batch    4/69   train_loss = 0.464\n",
      "Epoch  19 Batch    9/69   train_loss = 0.502\n",
      "Epoch  19 Batch   14/69   train_loss = 0.538\n",
      "Epoch  19 Batch   19/69   train_loss = 0.554\n",
      "Epoch  19 Batch   24/69   train_loss = 0.525\n",
      "Epoch  19 Batch   29/69   train_loss = 0.487\n",
      "Epoch  19 Batch   34/69   train_loss = 0.554\n",
      "Epoch  19 Batch   39/69   train_loss = 0.571\n",
      "Epoch  19 Batch   44/69   train_loss = 0.538\n",
      "Epoch  19 Batch   49/69   train_loss = 0.501\n",
      "Epoch  19 Batch   54/69   train_loss = 0.479\n",
      "Epoch  19 Batch   59/69   train_loss = 0.519\n",
      "Epoch  19 Batch   64/69   train_loss = 0.468\n",
      "Model Trained and Saved\n"
     ]
    }
   ],
   "source": [
    "\"\"\"\n",
    "DON'T MODIFY ANYTHING IN THIS CELL\n",
    "\"\"\"\n",
    "batches = get_batches(int_text, batch_size, seq_length)\n",
    "\n",
    "with tf.Session(graph=train_graph) as sess:\n",
    "    sess.run(tf.global_variables_initializer())\n",
    "\n",
    "    for epoch_i in range(num_epochs):\n",
    "        state = sess.run(initial_state, {input_text: batches[0][0]})\n",
    "\n",
    "        for batch_i, (x, y) in enumerate(batches):\n",
    "            feed = {\n",
    "                input_text: x,\n",
    "                targets: y,\n",
    "                initial_state: state,\n",
    "                lr: learning_rate}\n",
    "            train_loss, state, _ = sess.run([cost, final_state, train_op], feed)\n",
    "\n",
    "            # Show every <show_every_n_batches> batches\n",
    "            if (epoch_i * len(batches) + batch_i) % show_every_n_batches == 0:\n",
    "                print('Epoch {:>3} Batch {:>4}/{}   train_loss = {:.3f}'.format(\n",
    "                    epoch_i,\n",
    "                    batch_i,\n",
    "                    len(batches),\n",
    "                    train_loss))\n",
    "\n",
    "    # Save Model\n",
    "    saver = tf.train.Saver()\n",
    "    saver.save(sess, save_dir)\n",
    "    print('Model Trained and Saved')"
   ]
  },
  {
   "cell_type": "markdown",
   "metadata": {},
   "source": [
    "## Save Parameters\n",
    "Save `seq_length` and `save_dir` for generating a new TV script."
   ]
  },
  {
   "cell_type": "code",
   "execution_count": 24,
   "metadata": {
    "collapsed": true
   },
   "outputs": [],
   "source": [
    "\"\"\"\n",
    "DON'T MODIFY ANYTHING IN THIS CELL\n",
    "\"\"\"\n",
    "# Save parameters for checkpoint\n",
    "helper.save_params((seq_length, save_dir))"
   ]
  },
  {
   "cell_type": "markdown",
   "metadata": {},
   "source": [
    "# Checkpoint"
   ]
  },
  {
   "cell_type": "code",
   "execution_count": 25,
   "metadata": {
    "collapsed": true
   },
   "outputs": [],
   "source": [
    "\"\"\"\n",
    "DON'T MODIFY ANYTHING IN THIS CELL\n",
    "\"\"\"\n",
    "import tensorflow as tf\n",
    "import numpy as np\n",
    "import helper\n",
    "import problem_unittests as tests\n",
    "\n",
    "_, vocab_to_int, int_to_vocab, token_dict = helper.load_preprocess()\n",
    "seq_length, load_dir = helper.load_params()"
   ]
  },
  {
   "cell_type": "markdown",
   "metadata": {},
   "source": [
    "## Implement Generate Functions\n",
    "### Get Tensors\n",
    "Get tensors from `loaded_graph` using the function [`get_tensor_by_name()`](https://www.tensorflow.org/api_docs/python/tf/Graph#get_tensor_by_name).  Get the tensors using the following names:\n",
    "- \"input:0\"\n",
    "- \"initial_state:0\"\n",
    "- \"final_state:0\"\n",
    "- \"probs:0\"\n",
    "\n",
    "Return the tensors in the following tuple `(InputTensor, InitialStateTensor, FinalStateTensor, ProbsTensor)` "
   ]
  },
  {
   "cell_type": "code",
   "execution_count": 26,
   "metadata": {},
   "outputs": [
    {
     "name": "stdout",
     "output_type": "stream",
     "text": [
      "Tests Passed\n"
     ]
    }
   ],
   "source": [
    "def get_tensors(loaded_graph):\n",
    "    \"\"\"\n",
    "    Get input, initial state, final state, and probabilities tensor from <loaded_graph>\n",
    "    :param loaded_graph: TensorFlow graph loaded from file\n",
    "    :return: Tuple (InputTensor, InitialStateTensor, FinalStateTensor, ProbsTensor)\n",
    "    \"\"\"\n",
    "    # TODO: Implement Function\n",
    "    input_tensor = loaded_graph.get_tensor_by_name(\"input:0\")\n",
    "    initial_stateTensor = loaded_graph.get_tensor_by_name(\"initial_state:0\")\n",
    "    final_state_tensor = loaded_graph.get_tensor_by_name(\"final_state:0\")\n",
    "    prob_tensor = loaded_graph.get_tensor_by_name(\"probs:0\")\n",
    "    return input_tensor, initial_stateTensor, final_state_tensor, prob_tensor\n",
    "\n",
    "\n",
    "\"\"\"\n",
    "DON'T MODIFY ANYTHING IN THIS CELL THAT IS BELOW THIS LINE\n",
    "\"\"\"\n",
    "tests.test_get_tensors(get_tensors)"
   ]
  },
  {
   "cell_type": "markdown",
   "metadata": {},
   "source": [
    "### Choose Word\n",
    "Implement the `pick_word()` function to select the next word using `probabilities`."
   ]
  },
  {
   "cell_type": "code",
   "execution_count": 27,
   "metadata": {},
   "outputs": [
    {
     "name": "stdout",
     "output_type": "stream",
     "text": [
      "Tests Passed\n"
     ]
    }
   ],
   "source": [
    "def pick_word(probabilities, int_to_vocab):\n",
    "    \"\"\"\n",
    "    Pick the next word in the generated text\n",
    "    :param probabilities: Probabilites of the next word\n",
    "    :param int_to_vocab: Dictionary of word ids as the keys and words as the values\n",
    "    :return: String of the predicted word\n",
    "    \"\"\"\n",
    "    # TODO: Implement Function\n",
    "    vocab = list(int_to_vocab.values())\n",
    "    word = np.random.choice(vocab, p=probabilities)\n",
    "    return word\n",
    "\n",
    "\n",
    "\"\"\"\n",
    "DON'T MODIFY ANYTHING IN THIS CELL THAT IS BELOW THIS LINE\n",
    "\"\"\"\n",
    "tests.test_pick_word(pick_word)"
   ]
  },
  {
   "cell_type": "markdown",
   "metadata": {},
   "source": [
    "## Generate TV Script\n",
    "This will generate the TV script for you.  Set `gen_length` to the length of TV script you want to generate."
   ]
  },
  {
   "cell_type": "code",
   "execution_count": 28,
   "metadata": {},
   "outputs": [
    {
     "name": "stdout",
     "output_type": "stream",
     "text": [
      "INFO:tensorflow:Restoring parameters from ./save\n",
      "moe_szyslak:(clears throat) it all began about a month... so sideshow mel is drinkin' here all afternoon at how much of-- na na help me launch my singing career.\n",
      "smokin'_joe_frazier: people who gets the great to play.\n",
      "moe_szyslak: who the hell am i going to do?\n",
      "against the boy came to the point, and he you in the table table, which.\n",
      "moe_szyslak: marge, there's nothin' we can do that is this... and if you don't mind.\n",
      "moe_szyslak: all right, here you go back to my...\n",
      "moe_szyslak: wait, wait, wait... the ocean and you moron.\n",
      "moe_szyslak: oh, it's only fair that i been tipsy?\n",
      "homer_simpson: this was a lot of my head at all.\n",
      "moe_szyslak:(totally calm) oh great!\n",
      "\n",
      "\n",
      "moe_szyslak:(amazed) wayne? well, i look like macaulay culkin.\n",
      "homer_simpson:(gasp; awed) dad.\n",
      "homer_simpson:(baby talk) hello... going...(\n"
     ]
    }
   ],
   "source": [
    "gen_length = 200\n",
    "# homer_simpson, moe_szyslak, or Barney_Gumble\n",
    "prime_word = 'moe_szyslak'\n",
    "\n",
    "\"\"\"\n",
    "DON'T MODIFY ANYTHING IN THIS CELL THAT IS BELOW THIS LINE\n",
    "\"\"\"\n",
    "loaded_graph = tf.Graph()\n",
    "with tf.Session(graph=loaded_graph) as sess:\n",
    "    # Load saved model\n",
    "    loader = tf.train.import_meta_graph(load_dir + '.meta')\n",
    "    loader.restore(sess, load_dir)\n",
    "\n",
    "    # Get Tensors from loaded model\n",
    "    input_text, initial_state, final_state, probs = get_tensors(loaded_graph)\n",
    "\n",
    "    # Sentences generation setup\n",
    "    gen_sentences = [prime_word + ':']\n",
    "    prev_state = sess.run(initial_state, {input_text: np.array([[1]])})\n",
    "\n",
    "    # Generate sentences\n",
    "    for n in range(gen_length):\n",
    "        # Dynamic Input\n",
    "        dyn_input = [[vocab_to_int[word] for word in gen_sentences[-seq_length:]]]\n",
    "        dyn_seq_length = len(dyn_input[0])\n",
    "\n",
    "        # Get Prediction\n",
    "        probabilities, prev_state = sess.run(\n",
    "            [probs, final_state],\n",
    "            {input_text: dyn_input, initial_state: prev_state})\n",
    "        \n",
    "        pred_word = pick_word(probabilities[dyn_seq_length-1], int_to_vocab)\n",
    "\n",
    "        gen_sentences.append(pred_word)\n",
    "    \n",
    "    # Remove tokens\n",
    "    tv_script = ' '.join(gen_sentences)\n",
    "    for key, token in token_dict.items():\n",
    "        ending = ' ' if key in ['\\n', '(', '\"'] else ''\n",
    "        tv_script = tv_script.replace(' ' + token.lower(), key)\n",
    "    tv_script = tv_script.replace('\\n ', '\\n')\n",
    "    tv_script = tv_script.replace('( ', '(')\n",
    "        \n",
    "    print(tv_script)"
   ]
  },
  {
   "cell_type": "markdown",
   "metadata": {},
   "source": [
    "# The TV Script is Nonsensical\n",
    "It's ok if the TV script doesn't make any sense.  We trained on less than a megabyte of text.  In order to get good results, you'll have to use a smaller vocabulary or get more data.  Luckly there's more data!  As we mentioned in the begging of this project, this is a subset of [another dataset](https://www.kaggle.com/wcukierski/the-simpsons-by-the-data).  We didn't have you train on all the data, because that would take too long.  However, you are free to train your neural network on all the data.  After you complete the project, of course.\n",
    "# Submitting This Project\n",
    "When submitting this project, make sure to run all the cells before saving the notebook. Save the notebook file as \"dlnd_tv_script_generation.ipynb\" and save it as a HTML file under \"File\" -> \"Download as\". Include the \"helper.py\" and \"problem_unittests.py\" files in your submission."
   ]
  }
 ],
 "metadata": {
  "kernelspec": {
   "display_name": "Python 3",
   "language": "python",
   "name": "python3"
  },
  "language_info": {
   "codemirror_mode": {
    "name": "ipython",
    "version": 3
   },
   "file_extension": ".py",
   "mimetype": "text/x-python",
   "name": "python",
   "nbconvert_exporter": "python",
   "pygments_lexer": "ipython3",
   "version": "3.6.2"
  },
  "widgets": {
   "state": {},
   "version": "1.1.2"
  }
 },
 "nbformat": 4,
 "nbformat_minor": 1
}
