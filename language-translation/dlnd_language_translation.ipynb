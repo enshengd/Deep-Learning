{
 "cells": [
  {
   "cell_type": "markdown",
   "metadata": {
    "collapsed": true
   },
   "source": [
    "# Language Translation\n",
    "In this project, you’re going to take a peek into the realm of neural network machine translation.  You’ll be training a sequence to sequence model on a dataset of English and French sentences that can translate new sentences from English to French.\n",
    "## Get the Data\n",
    "Since translating the whole language of English to French will take lots of time to train, we have provided you with a small portion of the English corpus."
   ]
  },
  {
   "cell_type": "code",
   "execution_count": 1,
   "metadata": {
    "collapsed": true
   },
   "outputs": [],
   "source": [
    "\"\"\"\n",
    "DON'T MODIFY ANYTHING IN THIS CELL\n",
    "\"\"\"\n",
    "import helper\n",
    "import problem_unittests as tests\n",
    "\n",
    "source_path = 'data/small_vocab_en'\n",
    "target_path = 'data/small_vocab_fr'\n",
    "source_text = helper.load_data(source_path)\n",
    "target_text = helper.load_data(target_path)"
   ]
  },
  {
   "cell_type": "markdown",
   "metadata": {},
   "source": [
    "## Explore the Data\n",
    "Play around with view_sentence_range to view different parts of the data."
   ]
  },
  {
   "cell_type": "code",
   "execution_count": 2,
   "metadata": {},
   "outputs": [
    {
     "name": "stdout",
     "output_type": "stream",
     "text": [
      "Dataset Stats\n",
      "Roughly the number of unique words: 227\n",
      "Number of sentences: 137861\n",
      "Average number of words in a sentence: 13.225277634719028\n",
      "\n",
      "English sentences 0 to 10:\n",
      "new jersey is sometimes quiet during autumn , and it is snowy in april .\n",
      "the united states is usually chilly during july , and it is usually freezing in november .\n",
      "california is usually quiet during march , and it is usually hot in june .\n",
      "the united states is sometimes mild during june , and it is cold in september .\n",
      "your least liked fruit is the grape , but my least liked is the apple .\n",
      "his favorite fruit is the orange , but my favorite is the grape .\n",
      "paris is relaxing during december , but it is usually chilly in july .\n",
      "new jersey is busy during spring , and it is never hot in march .\n",
      "our least liked fruit is the lemon , but my least liked is the grape .\n",
      "the united states is sometimes busy during january , and it is sometimes warm in november .\n",
      "\n",
      "French sentences 0 to 10:\n",
      "new jersey est parfois calme pendant l' automne , et il est neigeux en avril .\n",
      "les états-unis est généralement froid en juillet , et il gèle habituellement en novembre .\n",
      "california est généralement calme en mars , et il est généralement chaud en juin .\n",
      "les états-unis est parfois légère en juin , et il fait froid en septembre .\n",
      "votre moins aimé fruit est le raisin , mais mon moins aimé est la pomme .\n",
      "son fruit préféré est l'orange , mais mon préféré est le raisin .\n",
      "paris est relaxant en décembre , mais il est généralement froid en juillet .\n",
      "new jersey est occupé au printemps , et il est jamais chaude en mars .\n",
      "notre fruit est moins aimé le citron , mais mon moins aimé est le raisin .\n",
      "les états-unis est parfois occupé en janvier , et il est parfois chaud en novembre .\n"
     ]
    }
   ],
   "source": [
    "view_sentence_range = (0, 10)\n",
    "\n",
    "\"\"\"\n",
    "DON'T MODIFY ANYTHING IN THIS CELL\n",
    "\"\"\"\n",
    "import numpy as np\n",
    "\n",
    "print('Dataset Stats')\n",
    "print('Roughly the number of unique words: {}'.format(len({word: None for word in source_text.split()})))\n",
    "\n",
    "sentences = source_text.split('\\n')\n",
    "word_counts = [len(sentence.split()) for sentence in sentences]\n",
    "print('Number of sentences: {}'.format(len(sentences)))\n",
    "print('Average number of words in a sentence: {}'.format(np.average(word_counts)))\n",
    "\n",
    "print()\n",
    "print('English sentences {} to {}:'.format(*view_sentence_range))\n",
    "print('\\n'.join(source_text.split('\\n')[view_sentence_range[0]:view_sentence_range[1]]))\n",
    "print()\n",
    "print('French sentences {} to {}:'.format(*view_sentence_range))\n",
    "print('\\n'.join(target_text.split('\\n')[view_sentence_range[0]:view_sentence_range[1]]))"
   ]
  },
  {
   "cell_type": "markdown",
   "metadata": {},
   "source": [
    "## Implement Preprocessing Function\n",
    "### Text to Word Ids\n",
    "As you did with other RNNs, you must turn the text into a number so the computer can understand it. In the function `text_to_ids()`, you'll turn `source_text` and `target_text` from words to ids.  However, you need to add the `<EOS>` word id at the end of `target_text`.  This will help the neural network predict when the sentence should end.\n",
    "\n",
    "You can get the `<EOS>` word id by doing:\n",
    "```python\n",
    "target_vocab_to_int['<EOS>']\n",
    "```\n",
    "You can get other word ids using `source_vocab_to_int` and `target_vocab_to_int`."
   ]
  },
  {
   "cell_type": "code",
   "execution_count": 3,
   "metadata": {},
   "outputs": [
    {
     "name": "stdout",
     "output_type": "stream",
     "text": [
      "Tests Passed\n"
     ]
    }
   ],
   "source": [
    "def text_to_ids(source_text, target_text, source_vocab_to_int, target_vocab_to_int):\n",
    "    \"\"\"\n",
    "    Convert source and target text to proper word ids\n",
    "    :param source_text: String that contains all the source text.\n",
    "    :param target_text: String that contains all the target text.\n",
    "    :param source_vocab_to_int: Dictionary to go from the source words to an id\n",
    "    :param target_vocab_to_int: Dictionary to go from the target words to an id\n",
    "    :return: A tuple of lists (source_id_text, target_id_text)\n",
    "    \"\"\"\n",
    "    # TODO: Implement Function\n",
    "    source_vocab_ids = [[source_vocab_to_int.get(vocab, source_vocab_to_int['<UNK>']) for vocab in line.split(' ')] for line in source_text.split('\\n')]\n",
    "    target_vocab_ids = [[target_vocab_to_int.get(vocab, target_vocab_to_int['<UNK>']) for vocab in line.split(' ')] + [target_vocab_to_int['<EOS>']] for line in target_text.split('\\n')] \n",
    "    return source_vocab_ids, target_vocab_ids\n",
    "\n",
    "\"\"\"\n",
    "DON'T MODIFY ANYTHING IN THIS CELL THAT IS BELOW THIS LINE\n",
    "\"\"\"\n",
    "tests.test_text_to_ids(text_to_ids)"
   ]
  },
  {
   "cell_type": "markdown",
   "metadata": {},
   "source": [
    "### Preprocess all the data and save it\n",
    "Running the code cell below will preprocess all the data and save it to file."
   ]
  },
  {
   "cell_type": "code",
   "execution_count": 4,
   "metadata": {
    "collapsed": true
   },
   "outputs": [],
   "source": [
    "\"\"\"\n",
    "DON'T MODIFY ANYTHING IN THIS CELL\n",
    "\"\"\"\n",
    "helper.preprocess_and_save_data(source_path, target_path, text_to_ids)"
   ]
  },
  {
   "cell_type": "markdown",
   "metadata": {},
   "source": [
    "# Check Point\n",
    "This is your first checkpoint. If you ever decide to come back to this notebook or have to restart the notebook, you can start from here. The preprocessed data has been saved to disk."
   ]
  },
  {
   "cell_type": "code",
   "execution_count": 5,
   "metadata": {
    "collapsed": true
   },
   "outputs": [],
   "source": [
    "\"\"\"\n",
    "DON'T MODIFY ANYTHING IN THIS CELL\n",
    "\"\"\"\n",
    "import numpy as np\n",
    "import helper\n",
    "import problem_unittests as tests\n",
    "\n",
    "(source_int_text, target_int_text), (source_vocab_to_int, target_vocab_to_int), _ = helper.load_preprocess()"
   ]
  },
  {
   "cell_type": "markdown",
   "metadata": {},
   "source": [
    "### Check the Version of TensorFlow and Access to GPU\n",
    "This will check to make sure you have the correct version of TensorFlow and access to a GPU"
   ]
  },
  {
   "cell_type": "code",
   "execution_count": 6,
   "metadata": {},
   "outputs": [
    {
     "name": "stdout",
     "output_type": "stream",
     "text": [
      "TensorFlow Version: 1.4.0\n",
      "Default GPU Device: /device:GPU:0\n"
     ]
    }
   ],
   "source": [
    "\"\"\"\n",
    "DON'T MODIFY ANYTHING IN THIS CELL\n",
    "\"\"\"\n",
    "from distutils.version import LooseVersion\n",
    "import warnings\n",
    "import tensorflow as tf\n",
    "from tensorflow.python.layers.core import Dense\n",
    "\n",
    "# Check TensorFlow Version\n",
    "assert LooseVersion(tf.__version__) >= LooseVersion('1.1'), 'Please use TensorFlow version 1.1 or newer'\n",
    "print('TensorFlow Version: {}'.format(tf.__version__))\n",
    "\n",
    "# Check for a GPU\n",
    "if not tf.test.gpu_device_name():\n",
    "    warnings.warn('No GPU found. Please use a GPU to train your neural network.')\n",
    "else:\n",
    "    print('Default GPU Device: {}'.format(tf.test.gpu_device_name()))"
   ]
  },
  {
   "cell_type": "markdown",
   "metadata": {},
   "source": [
    "## Build the Neural Network\n",
    "You'll build the components necessary to build a Sequence-to-Sequence model by implementing the following functions below:\n",
    "- `model_inputs`\n",
    "- `process_decoder_input`\n",
    "- `encoding_layer`\n",
    "- `decoding_layer_train`\n",
    "- `decoding_layer_infer`\n",
    "- `decoding_layer`\n",
    "- `seq2seq_model`\n",
    "\n",
    "### Input\n",
    "Implement the `model_inputs()` function to create TF Placeholders for the Neural Network. It should create the following placeholders:\n",
    "\n",
    "- Input text placeholder named \"input\" using the TF Placeholder name parameter with rank 2.\n",
    "- Targets placeholder with rank 2.\n",
    "- Learning rate placeholder with rank 0.\n",
    "- Keep probability placeholder named \"keep_prob\" using the TF Placeholder name parameter with rank 0.\n",
    "- Target sequence length placeholder named \"target_sequence_length\" with rank 1\n",
    "- Max target sequence length tensor named \"max_target_len\" getting its value from applying tf.reduce_max on the target_sequence_length placeholder. Rank 0.\n",
    "- Source sequence length placeholder named \"source_sequence_length\" with rank 1\n",
    "\n",
    "Return the placeholders in the following the tuple (input, targets, learning rate, keep probability, target sequence length, max target sequence length, source sequence length)"
   ]
  },
  {
   "cell_type": "code",
   "execution_count": 7,
   "metadata": {},
   "outputs": [
    {
     "name": "stdout",
     "output_type": "stream",
     "text": [
      "Tests Passed\n"
     ]
    }
   ],
   "source": [
    "def model_inputs():\n",
    "    \"\"\"\n",
    "    Create TF Placeholders for input, targets, learning rate, and lengths of source and target sequences.\n",
    "    :return: Tuple (input, targets, learning rate, keep probability, target sequence length,\n",
    "    max target sequence length, source sequence length)\n",
    "    \"\"\"\n",
    "    # TODO: Implement Function\n",
    "    input_data = tf.placeholder(tf.int32, [None, None], name='input')\n",
    "    targets = tf.placeholder(tf.int32, [None, None], name='targets')\n",
    "    lr = tf.placeholder(tf.float32, name='learning_rate')\n",
    "    keep_prob = tf.placeholder(tf.float32, name='keep_prob')\n",
    "    target_sequence_length = tf.placeholder(tf.int32, (None,), name='target_sequence_length')\n",
    "    max_target_len = tf.reduce_max(target_sequence_length, name='max_target_len')\n",
    "    source_sequence_length = tf.placeholder(tf.int32, (None,), name='source_sequence_length')\n",
    "    \n",
    "    return input_data, targets, lr, keep_prob, target_sequence_length, max_target_len, source_sequence_length\n",
    "\n",
    "\n",
    "\"\"\"\n",
    "DON'T MODIFY ANYTHING IN THIS CELL THAT IS BELOW THIS LINE\n",
    "\"\"\"\n",
    "tests.test_model_inputs(model_inputs)"
   ]
  },
  {
   "cell_type": "markdown",
   "metadata": {},
   "source": [
    "### Process Decoder Input\n",
    "Implement `process_decoder_input` by removing the last word id from each batch in `target_data` and concat the GO ID to the begining of each batch."
   ]
  },
  {
   "cell_type": "code",
   "execution_count": 8,
   "metadata": {},
   "outputs": [
    {
     "name": "stdout",
     "output_type": "stream",
     "text": [
      "Tests Passed\n"
     ]
    }
   ],
   "source": [
    "def process_decoder_input(target_data, target_vocab_to_int, batch_size):\n",
    "    \"\"\"\n",
    "    Preprocess target data for encoding\n",
    "    :param target_data: Target Placehoder\n",
    "    :param target_vocab_to_int: Dictionary to go from the target words to an id\n",
    "    :param batch_size: Batch Size\n",
    "    :return: Preprocessed target data\n",
    "    \"\"\"\n",
    "    # TODO: Implement Function\n",
    "    ending = tf.strided_slice(target_data, [0, 0], [batch_size, -1], [1, 1])\n",
    "    dec_input = tf.concat([tf.fill([batch_size, 1], target_vocab_to_int['<GO>']), ending], 1)\n",
    "    return dec_input\n",
    "\n",
    "\"\"\"\n",
    "DON'T MODIFY ANYTHING IN THIS CELL THAT IS BELOW THIS LINE\n",
    "\"\"\"\n",
    "tests.test_process_encoding_input(process_decoder_input)"
   ]
  },
  {
   "cell_type": "markdown",
   "metadata": {},
   "source": [
    "### Encoding\n",
    "Implement `encoding_layer()` to create a Encoder RNN layer:\n",
    " * Embed the encoder input using [`tf.contrib.layers.embed_sequence`](https://www.tensorflow.org/api_docs/python/tf/contrib/layers/embed_sequence)\n",
    " * Construct a [stacked](https://github.com/tensorflow/tensorflow/blob/6947f65a374ebf29e74bb71e36fd82760056d82c/tensorflow/docs_src/tutorials/recurrent.md#stacking-multiple-lstms) [`tf.contrib.rnn.LSTMCell`](https://www.tensorflow.org/api_docs/python/tf/contrib/rnn/LSTMCell) wrapped in a [`tf.contrib.rnn.DropoutWrapper`](https://www.tensorflow.org/api_docs/python/tf/contrib/rnn/DropoutWrapper)\n",
    " * Pass cell and embedded input to [`tf.nn.dynamic_rnn()`](https://www.tensorflow.org/api_docs/python/tf/nn/dynamic_rnn)"
   ]
  },
  {
   "cell_type": "code",
   "execution_count": 9,
   "metadata": {
    "scrolled": false
   },
   "outputs": [
    {
     "name": "stdout",
     "output_type": "stream",
     "text": [
      "Tests Passed\n"
     ]
    }
   ],
   "source": [
    "from imp import reload\n",
    "reload(tests)\n",
    "\n",
    "def encoding_layer(rnn_inputs, rnn_size, num_layers, keep_prob, \n",
    "                   source_sequence_length, source_vocab_size, \n",
    "                   encoding_embedding_size):\n",
    "    \"\"\"\n",
    "    Create encoding layer\n",
    "    :param rnn_inputs: Inputs for the RNN\n",
    "    :param rnn_size: RNN Size\n",
    "    :param num_layers: Number of layers\n",
    "    :param keep_prob: Dropout keep probability\n",
    "    :param source_sequence_length: a list of the lengths of each sequence in the batch\n",
    "    :param source_vocab_size: vocabulary size of source data\n",
    "    :param encoding_embedding_size: embedding size of source data\n",
    "    :return: tuple (RNN output, RNN state)\n",
    "    \"\"\"\n",
    "    # TODO: Implement Function\n",
    "    # Encoder embedding\n",
    "    enc_embed_input = tf.contrib.layers.embed_sequence(rnn_inputs, source_vocab_size, encoding_embedding_size)\n",
    "    \n",
    "    # RNN cell\n",
    "    def make_cell(rnn_size):\n",
    "        enc_cell = tf.contrib.rnn.LSTMCell(rnn_size, initializer=tf.random_uniform_initializer(-0.1, 0.1, seed=2))\n",
    "        enc_cell = tf.contrib.rnn.DropoutWrapper(enc_cell, keep_prob)\n",
    "        return enc_cell\n",
    "\n",
    "    enc_cell = tf.contrib.rnn.MultiRNNCell([make_cell(rnn_size) for _ in range(num_layers)])\n",
    "    \n",
    "    rnn_output, rnn_state = tf.nn.dynamic_rnn(enc_cell, enc_embed_input, sequence_length=source_sequence_length, dtype=tf.float32)\n",
    "    \n",
    "    return rnn_output, rnn_state\n",
    "\n",
    "\"\"\"\n",
    "DON'T MODIFY ANYTHING IN THIS CELL THAT IS BELOW THIS LINE\n",
    "\"\"\"\n",
    "tests.test_encoding_layer(encoding_layer)"
   ]
  },
  {
   "cell_type": "markdown",
   "metadata": {},
   "source": [
    "### Decoding - Training\n",
    "Create a training decoding layer:\n",
    "* Create a [`tf.contrib.seq2seq.TrainingHelper`](https://www.tensorflow.org/api_docs/python/tf/contrib/seq2seq/TrainingHelper) \n",
    "* Create a [`tf.contrib.seq2seq.BasicDecoder`](https://www.tensorflow.org/api_docs/python/tf/contrib/seq2seq/BasicDecoder)\n",
    "* Obtain the decoder outputs from [`tf.contrib.seq2seq.dynamic_decode`](https://www.tensorflow.org/api_docs/python/tf/contrib/seq2seq/dynamic_decode)"
   ]
  },
  {
   "cell_type": "code",
   "execution_count": 10,
   "metadata": {},
   "outputs": [
    {
     "name": "stdout",
     "output_type": "stream",
     "text": [
      "Tests Passed\n"
     ]
    }
   ],
   "source": [
    "\n",
    "def decoding_layer_train(encoder_state, dec_cell, dec_embed_input, \n",
    "                         target_sequence_length, max_summary_length, \n",
    "                         output_layer, keep_prob):\n",
    "    \"\"\"\n",
    "    Create a decoding layer for training\n",
    "    :param encoder_state: Encoder State\n",
    "    :param dec_cell: Decoder RNN Cell\n",
    "    :param dec_embed_input: Decoder embedded input\n",
    "    :param target_sequence_length: The lengths of each sequence in the target batch\n",
    "    :param max_summary_length: The length of the longest sequence in the batch\n",
    "    :param output_layer: Function to apply the output layer\n",
    "    :param keep_prob: Dropout keep probability\n",
    "    :return: BasicDecoderOutput containing training logits and sample_id\n",
    "    \"\"\"\n",
    "    # TODO: Implement Function\n",
    "    dec_embed_input = tf.contrib.layers.dropout(dec_embed_input, keep_prob)\n",
    "    \n",
    "    training_helper = tf.contrib.seq2seq.TrainingHelper(inputs=dec_embed_input, sequence_length=target_sequence_length, \n",
    "                                                        time_major=False)\n",
    "    \n",
    "    training_decoder = tf.contrib.seq2seq.BasicDecoder(dec_cell, training_helper, encoder_state, output_layer)  \n",
    "\n",
    "    raining_decoder_output = tf.contrib.seq2seq.dynamic_decode(training_decoder, impute_finished=True, \n",
    "                                                               maximum_iterations=max_summary_length)[0]\n",
    "    \n",
    "    \n",
    "    return raining_decoder_output\n",
    "\n",
    "\n",
    "\n",
    "\"\"\"\n",
    "DON'T MODIFY ANYTHING IN THIS CELL THAT IS BELOW THIS LINE\n",
    "\"\"\"\n",
    "tests.test_decoding_layer_train(decoding_layer_train)"
   ]
  },
  {
   "cell_type": "markdown",
   "metadata": {},
   "source": [
    "### Decoding - Inference\n",
    "Create inference decoder:\n",
    "* Create a [`tf.contrib.seq2seq.GreedyEmbeddingHelper`](https://www.tensorflow.org/api_docs/python/tf/contrib/seq2seq/GreedyEmbeddingHelper)\n",
    "* Create a [`tf.contrib.seq2seq.BasicDecoder`](https://www.tensorflow.org/api_docs/python/tf/contrib/seq2seq/BasicDecoder)\n",
    "* Obtain the decoder outputs from [`tf.contrib.seq2seq.dynamic_decode`](https://www.tensorflow.org/api_docs/python/tf/contrib/seq2seq/dynamic_decode)"
   ]
  },
  {
   "cell_type": "code",
   "execution_count": 11,
   "metadata": {
    "scrolled": true
   },
   "outputs": [
    {
     "name": "stdout",
     "output_type": "stream",
     "text": [
      "Tests Passed\n"
     ]
    }
   ],
   "source": [
    "def decoding_layer_infer(encoder_state, dec_cell, dec_embeddings, start_of_sequence_id,\n",
    "                         end_of_sequence_id, max_target_sequence_length,\n",
    "                         vocab_size, output_layer, batch_size, keep_prob):\n",
    "    \"\"\"\n",
    "    Create a decoding layer for inference\n",
    "    :param encoder_state: Encoder state\n",
    "    :param dec_cell: Decoder RNN Cell\n",
    "    :param dec_embeddings: Decoder embeddings\n",
    "    :param start_of_sequence_id: GO ID\n",
    "    :param end_of_sequence_id: EOS Id\n",
    "    :param max_target_sequence_length: Maximum length of target sequences\n",
    "    :param vocab_size: Size of decoder/target vocabulary\n",
    "    :param decoding_scope: TenorFlow Variable Scope for decoding\n",
    "    :param output_layer: Function to apply the output layer\n",
    "    :param batch_size: Batch size\n",
    "    :param keep_prob: Dropout keep probability\n",
    "    :return: BasicDecoderOutput containing inference logits and sample_id\n",
    "    \"\"\"\n",
    "    # TODO: Implement Function\n",
    "    start_tokens = tf.tile(tf.constant([start_of_sequence_id], dtype=tf.int32), [batch_size], name='start_tokens')\n",
    "    \n",
    "    inference_helper = tf.contrib.seq2seq.GreedyEmbeddingHelper(dec_embeddings,\n",
    "                                                                start_tokens,\n",
    "                                                                end_of_sequence_id)\n",
    "    inference_decoder = tf.contrib.seq2seq.BasicDecoder(dec_cell,\n",
    "                                                        inference_helper,\n",
    "                                                        encoder_state,\n",
    "                                                        output_layer)\n",
    "    inference_decoder_output = tf.contrib.seq2seq.dynamic_decode(inference_decoder,\n",
    "                                                            impute_finished=True,\n",
    "                                                            maximum_iterations=max_target_sequence_length)[0]\n",
    "    return inference_decoder_output\n",
    "\n",
    "\n",
    "\n",
    "\"\"\"\n",
    "DON'T MODIFY ANYTHING IN THIS CELL THAT IS BELOW THIS LINE\n",
    "\"\"\"\n",
    "tests.test_decoding_layer_infer(decoding_layer_infer)"
   ]
  },
  {
   "cell_type": "markdown",
   "metadata": {},
   "source": [
    "### Build the Decoding Layer\n",
    "Implement `decoding_layer()` to create a Decoder RNN layer.\n",
    "\n",
    "* Embed the target sequences\n",
    "* Construct the decoder LSTM cell (just like you constructed the encoder cell above)\n",
    "* Create an output layer to map the outputs of the decoder to the elements of our vocabulary\n",
    "* Use the your `decoding_layer_train(encoder_state, dec_cell, dec_embed_input, target_sequence_length, max_target_sequence_length, output_layer, keep_prob)` function to get the training logits.\n",
    "* Use your `decoding_layer_infer(encoder_state, dec_cell, dec_embeddings, start_of_sequence_id, end_of_sequence_id, max_target_sequence_length, vocab_size, output_layer, batch_size, keep_prob)` function to get the inference logits.\n",
    "\n",
    "Note: You'll need to use [tf.variable_scope](https://www.tensorflow.org/api_docs/python/tf/variable_scope) to share variables between training and inference."
   ]
  },
  {
   "cell_type": "code",
   "execution_count": 12,
   "metadata": {
    "scrolled": true
   },
   "outputs": [
    {
     "name": "stdout",
     "output_type": "stream",
     "text": [
      "Tests Passed\n"
     ]
    }
   ],
   "source": [
    "def decoding_layer(dec_input, encoder_state,\n",
    "                   target_sequence_length, max_target_sequence_length,\n",
    "                   rnn_size,\n",
    "                   num_layers, target_vocab_to_int, target_vocab_size,\n",
    "                   batch_size, keep_prob, decoding_embedding_size):\n",
    "    \"\"\"\n",
    "    Create decoding layer\n",
    "    :param dec_input: Decoder input\n",
    "    :param encoder_state: Encoder state\n",
    "    :param target_sequence_length: The lengths of each sequence in the target batch\n",
    "    :param max_target_sequence_length: Maximum length of target sequences\n",
    "    :param rnn_size: RNN Size\n",
    "    :param num_layers: Number of layers\n",
    "    :param target_vocab_to_int: Dictionary to go from the target words to an id\n",
    "    :param target_vocab_size: Size of target vocabulary\n",
    "    :param batch_size: The size of the batch\n",
    "    :param keep_prob: Dropout keep probability\n",
    "    :param decoding_embedding_size: Decoding embedding size\n",
    "    :return: Tuple of (Training BasicDecoderOutput, Inference BasicDecoderOutput)\n",
    "    \"\"\"\n",
    "    # TODO: Implement Function\n",
    "    \n",
    "    # Decoder embedding\n",
    "    dec_embeddings = tf.Variable(tf.random_uniform([target_vocab_size, decoding_embedding_size]))\n",
    "    dec_embed_input = tf.nn.embedding_lookup(dec_embeddings, dec_input)\n",
    "    \n",
    "    def make_cell(rnn_size):\n",
    "        dec_cell = tf.contrib.rnn.LSTMCell(rnn_size, initializer=tf.random_uniform_initializer(-0.1, 0.1, seed=2))\n",
    "        return dec_cell\n",
    "    \n",
    "    dec_cell = tf.contrib.rnn.MultiRNNCell([make_cell(rnn_size) for _ in range(num_layers)])\n",
    "    \n",
    "    output_layer = Dense(target_vocab_size,kernel_initializer = tf.truncated_normal_initializer(mean = 0.0, stddev=0.1))\n",
    "  \n",
    "    with tf.variable_scope(\"decode\"):\n",
    "        \n",
    "        training_basic_decoder_output = decoding_layer_train(encoder_state, dec_cell, dec_embed_input, target_sequence_length, \n",
    "                                                         max_target_sequence_length, output_layer, keep_prob)\n",
    "    \n",
    "    with tf.variable_scope(\"decode\", reuse=True):\n",
    "        \n",
    "        start_of_sequence_id = target_vocab_to_int['<GO>']\n",
    "        end_of_sequence_id = target_vocab_to_int['<EOS>']\n",
    "\n",
    "        inference_basic_decoder_output = decoding_layer_infer(encoder_state, dec_cell, dec_embeddings, start_of_sequence_id,\n",
    "                                                              end_of_sequence_id, max_target_sequence_length, \n",
    "                                                              target_vocab_size, output_layer, batch_size, keep_prob)\n",
    "    return training_basic_decoder_output, inference_basic_decoder_output\n",
    "\n",
    "\n",
    "\n",
    "\"\"\"\n",
    "DON'T MODIFY ANYTHING IN THIS CELL THAT IS BELOW THIS LINE\n",
    "\"\"\"\n",
    "tests.test_decoding_layer(decoding_layer)"
   ]
  },
  {
   "cell_type": "markdown",
   "metadata": {},
   "source": [
    "### Build the Neural Network\n",
    "Apply the functions you implemented above to:\n",
    "\n",
    "- Encode the input using your `encoding_layer(rnn_inputs, rnn_size, num_layers, keep_prob,  source_sequence_length, source_vocab_size, encoding_embedding_size)`.\n",
    "- Process target data using your `process_decoder_input(target_data, target_vocab_to_int, batch_size)` function.\n",
    "- Decode the encoded input using your `decoding_layer(dec_input, enc_state, target_sequence_length, max_target_sentence_length, rnn_size, num_layers, target_vocab_to_int, target_vocab_size, batch_size, keep_prob, dec_embedding_size)` function."
   ]
  },
  {
   "cell_type": "code",
   "execution_count": 13,
   "metadata": {},
   "outputs": [
    {
     "name": "stdout",
     "output_type": "stream",
     "text": [
      "Tests Passed\n"
     ]
    }
   ],
   "source": [
    "def seq2seq_model(input_data, target_data, keep_prob, batch_size,\n",
    "                  source_sequence_length, target_sequence_length,\n",
    "                  max_target_sentence_length,\n",
    "                  source_vocab_size, target_vocab_size,\n",
    "                  enc_embedding_size, dec_embedding_size,\n",
    "                  rnn_size, num_layers, target_vocab_to_int):\n",
    "    \"\"\"\n",
    "    Build the Sequence-to-Sequence part of the neural network\n",
    "    :param input_data: Input placeholder\n",
    "    :param target_data: Target placeholder\n",
    "    :param keep_prob: Dropout keep probability placeholder\n",
    "    :param batch_size: Batch Size\n",
    "    :param source_sequence_length: Sequence Lengths of source sequences in the batch\n",
    "    :param target_sequence_length: Sequence Lengths of target sequences in the batch\n",
    "    :param source_vocab_size: Source vocabulary size\n",
    "    :param target_vocab_size: Target vocabulary size\n",
    "    :param enc_embedding_size: Decoder embedding size\n",
    "    :param dec_embedding_size: Encoder embedding size\n",
    "    :param rnn_size: RNN Size\n",
    "    :param num_layers: Number of layers\n",
    "    :param target_vocab_to_int: Dictionary to go from the target words to an id\n",
    "    :return: Tuple of (Training BasicDecoderOutput, Inference BasicDecoderOutput)\n",
    "    \"\"\"\n",
    "    # TODO: Implement Function\n",
    "    _, enc_state = encoding_layer(input_data, rnn_size, num_layers, keep_prob,  \n",
    "                                  source_sequence_length, source_vocab_size, enc_embedding_size)\n",
    "    dec_input = process_decoder_input(target_data, target_vocab_to_int, batch_size)\n",
    "    training_basic_decoder_output, inference_basic_decoder_output = decoding_layer(dec_input, enc_state, \n",
    "                                                                                   target_sequence_length, \n",
    "                                                                                   max_target_sentence_length, \n",
    "                                                                                   rnn_size, num_layers, \n",
    "                                                                                   target_vocab_to_int, \n",
    "                                                                                   target_vocab_size, \n",
    "                                                                                   batch_size, keep_prob, \n",
    "                                                                                   dec_embedding_size)\n",
    "    return training_basic_decoder_output, inference_basic_decoder_output\n",
    "\n",
    "\n",
    "\"\"\"\n",
    "DON'T MODIFY ANYTHING IN THIS CELL THAT IS BELOW THIS LINE\n",
    "\"\"\"\n",
    "tests.test_seq2seq_model(seq2seq_model)"
   ]
  },
  {
   "cell_type": "markdown",
   "metadata": {},
   "source": [
    "## Neural Network Training\n",
    "### Hyperparameters\n",
    "Tune the following parameters:\n",
    "\n",
    "- Set `epochs` to the number of epochs.\n",
    "- Set `batch_size` to the batch size.\n",
    "- Set `rnn_size` to the size of the RNNs.\n",
    "- Set `num_layers` to the number of layers.\n",
    "- Set `encoding_embedding_size` to the size of the embedding for the encoder.\n",
    "- Set `decoding_embedding_size` to the size of the embedding for the decoder.\n",
    "- Set `learning_rate` to the learning rate.\n",
    "- Set `keep_probability` to the Dropout keep probability\n",
    "- Set `display_step` to state how many steps between each debug output statement"
   ]
  },
  {
   "cell_type": "code",
   "execution_count": 27,
   "metadata": {
    "collapsed": true
   },
   "outputs": [],
   "source": [
    "# Number of Epochs\n",
    "epochs = 5\n",
    "# Batch Size\n",
    "batch_size = 512\n",
    "# RNN Size\n",
    "rnn_size = 512\n",
    "# Number of Layers\n",
    "num_layers = 2\n",
    "# Embedding Size\n",
    "encoding_embedding_size = 256\n",
    "decoding_embedding_size = 256\n",
    "# Learning Rate\n",
    "learning_rate = 0.001\n",
    "# Dropout Keep Probability\n",
    "keep_probability = 0.75\n",
    "display_step = 5"
   ]
  },
  {
   "cell_type": "markdown",
   "metadata": {},
   "source": [
    "### Build the Graph\n",
    "Build the graph using the neural network you implemented."
   ]
  },
  {
   "cell_type": "code",
   "execution_count": 28,
   "metadata": {
    "collapsed": true
   },
   "outputs": [],
   "source": [
    "\"\"\"\n",
    "DON'T MODIFY ANYTHING IN THIS CELL\n",
    "\"\"\"\n",
    "save_path = 'checkpoints/dev'\n",
    "(source_int_text, target_int_text), (source_vocab_to_int, target_vocab_to_int), _ = helper.load_preprocess()\n",
    "max_target_sentence_length = max([len(sentence) for sentence in source_int_text])\n",
    "\n",
    "train_graph = tf.Graph()\n",
    "with train_graph.as_default():\n",
    "    input_data, targets, lr, keep_prob, target_sequence_length, max_target_sequence_length, source_sequence_length = model_inputs()\n",
    "\n",
    "    #sequence_length = tf.placeholder_with_default(max_target_sentence_length, None, name='sequence_length')\n",
    "    input_shape = tf.shape(input_data)\n",
    "\n",
    "    train_logits, inference_logits = seq2seq_model(tf.reverse(input_data, [-1]),\n",
    "                                                   targets,\n",
    "                                                   keep_prob,\n",
    "                                                   batch_size,\n",
    "                                                   source_sequence_length,\n",
    "                                                   target_sequence_length,\n",
    "                                                   max_target_sequence_length,\n",
    "                                                   len(source_vocab_to_int),\n",
    "                                                   len(target_vocab_to_int),\n",
    "                                                   encoding_embedding_size,\n",
    "                                                   decoding_embedding_size,\n",
    "                                                   rnn_size,\n",
    "                                                   num_layers,\n",
    "                                                   target_vocab_to_int)\n",
    "\n",
    "\n",
    "    training_logits = tf.identity(train_logits.rnn_output, name='logits')\n",
    "    inference_logits = tf.identity(inference_logits.sample_id, name='predictions')\n",
    "\n",
    "    masks = tf.sequence_mask(target_sequence_length, max_target_sequence_length, dtype=tf.float32, name='masks')\n",
    "\n",
    "    with tf.name_scope(\"optimization\"):\n",
    "        # Loss function\n",
    "        cost = tf.contrib.seq2seq.sequence_loss(\n",
    "            training_logits,\n",
    "            targets,\n",
    "            masks)\n",
    "\n",
    "        # Optimizer\n",
    "        optimizer = tf.train.AdamOptimizer(lr)\n",
    "\n",
    "        # Gradient Clipping\n",
    "        gradients = optimizer.compute_gradients(cost)\n",
    "        capped_gradients = [(tf.clip_by_value(grad, -1., 1.), var) for grad, var in gradients if grad is not None]\n",
    "        train_op = optimizer.apply_gradients(capped_gradients)\n"
   ]
  },
  {
   "cell_type": "markdown",
   "metadata": {},
   "source": [
    "Batch and pad the source and target sequences"
   ]
  },
  {
   "cell_type": "code",
   "execution_count": 29,
   "metadata": {
    "collapsed": true
   },
   "outputs": [],
   "source": [
    "\"\"\"\n",
    "DON'T MODIFY ANYTHING IN THIS CELL\n",
    "\"\"\"\n",
    "def pad_sentence_batch(sentence_batch, pad_int):\n",
    "    \"\"\"Pad sentences with <PAD> so that each sentence of a batch has the same length\"\"\"\n",
    "    max_sentence = max([len(sentence) for sentence in sentence_batch])\n",
    "    return [sentence + [pad_int] * (max_sentence - len(sentence)) for sentence in sentence_batch]\n",
    "\n",
    "\n",
    "def get_batches(sources, targets, batch_size, source_pad_int, target_pad_int):\n",
    "    \"\"\"Batch targets, sources, and the lengths of their sentences together\"\"\"\n",
    "    for batch_i in range(0, len(sources)//batch_size):\n",
    "        start_i = batch_i * batch_size\n",
    "\n",
    "        # Slice the right amount for the batch\n",
    "        sources_batch = sources[start_i:start_i + batch_size]\n",
    "        targets_batch = targets[start_i:start_i + batch_size]\n",
    "\n",
    "        # Pad\n",
    "        pad_sources_batch = np.array(pad_sentence_batch(sources_batch, source_pad_int))\n",
    "        pad_targets_batch = np.array(pad_sentence_batch(targets_batch, target_pad_int))\n",
    "\n",
    "        # Need the lengths for the _lengths parameters\n",
    "        pad_targets_lengths = []\n",
    "        for target in pad_targets_batch:\n",
    "            pad_targets_lengths.append(len(target))\n",
    "\n",
    "        pad_source_lengths = []\n",
    "        for source in pad_sources_batch:\n",
    "            pad_source_lengths.append(len(source))\n",
    "\n",
    "        yield pad_sources_batch, pad_targets_batch, pad_source_lengths, pad_targets_lengths\n"
   ]
  },
  {
   "cell_type": "markdown",
   "metadata": {},
   "source": [
    "### Train\n",
    "Train the neural network on the preprocessed data. If you have a hard time getting a good loss, check the forms to see if anyone is having the same problem."
   ]
  },
  {
   "cell_type": "code",
   "execution_count": 30,
   "metadata": {
    "scrolled": true
   },
   "outputs": [
    {
     "name": "stdout",
     "output_type": "stream",
     "text": [
      "Epoch   0 Batch    5/269 - Train Accuracy: 0.2818, Validation Accuracy: 0.3571, Loss: 3.6175\n",
      "Epoch   0 Batch   10/269 - Train Accuracy: 0.3472, Validation Accuracy: 0.4106, Loss: 3.0743\n",
      "Epoch   0 Batch   15/269 - Train Accuracy: 0.4049, Validation Accuracy: 0.4458, Loss: 2.6732\n",
      "Epoch   0 Batch   20/269 - Train Accuracy: 0.4000, Validation Accuracy: 0.4530, Loss: 2.5133\n",
      "Epoch   0 Batch   25/269 - Train Accuracy: 0.4216, Validation Accuracy: 0.4770, Loss: 2.3799\n",
      "Epoch   0 Batch   30/269 - Train Accuracy: 0.4681, Validation Accuracy: 0.4971, Loss: 2.0807\n",
      "Epoch   0 Batch   35/269 - Train Accuracy: 0.4984, Validation Accuracy: 0.5146, Loss: 1.9433\n",
      "Epoch   0 Batch   40/269 - Train Accuracy: 0.4659, Validation Accuracy: 0.5134, Loss: 1.8915\n",
      "Epoch   0 Batch   45/269 - Train Accuracy: 0.4716, Validation Accuracy: 0.5071, Loss: 1.8424\n",
      "Epoch   0 Batch   50/269 - Train Accuracy: 0.4145, Validation Accuracy: 0.4700, Loss: 1.7288\n",
      "Epoch   0 Batch   55/269 - Train Accuracy: 0.4648, Validation Accuracy: 0.4920, Loss: 1.5893\n",
      "Epoch   0 Batch   60/269 - Train Accuracy: 0.5017, Validation Accuracy: 0.5059, Loss: 1.4252\n",
      "Epoch   0 Batch   65/269 - Train Accuracy: 0.4959, Validation Accuracy: 0.5123, Loss: 1.4110\n",
      "Epoch   0 Batch   70/269 - Train Accuracy: 0.4886, Validation Accuracy: 0.5015, Loss: 1.3505\n",
      "Epoch   0 Batch   75/269 - Train Accuracy: 0.4915, Validation Accuracy: 0.5120, Loss: 1.2918\n",
      "Epoch   0 Batch   80/269 - Train Accuracy: 0.4873, Validation Accuracy: 0.5097, Loss: 1.2257\n",
      "Epoch   0 Batch   85/269 - Train Accuracy: 0.5123, Validation Accuracy: 0.5241, Loss: 1.1845\n",
      "Epoch   0 Batch   90/269 - Train Accuracy: 0.4751, Validation Accuracy: 0.5399, Loss: 1.2059\n",
      "Epoch   0 Batch   95/269 - Train Accuracy: 0.5078, Validation Accuracy: 0.5301, Loss: 1.0984\n",
      "Epoch   0 Batch  100/269 - Train Accuracy: 0.5250, Validation Accuracy: 0.5192, Loss: 1.0304\n",
      "Epoch   0 Batch  105/269 - Train Accuracy: 0.5490, Validation Accuracy: 0.5595, Loss: 1.0086\n",
      "Epoch   0 Batch  110/269 - Train Accuracy: 0.5419, Validation Accuracy: 0.5558, Loss: 0.9474\n",
      "Epoch   0 Batch  115/269 - Train Accuracy: 0.5479, Validation Accuracy: 0.5759, Loss: 0.9293\n",
      "Epoch   0 Batch  120/269 - Train Accuracy: 0.5480, Validation Accuracy: 0.5702, Loss: 0.9076\n",
      "Epoch   0 Batch  125/269 - Train Accuracy: 0.5806, Validation Accuracy: 0.5887, Loss: 0.8277\n",
      "Epoch   0 Batch  130/269 - Train Accuracy: 0.5685, Validation Accuracy: 0.5945, Loss: 0.8560\n",
      "Epoch   0 Batch  135/269 - Train Accuracy: 0.5686, Validation Accuracy: 0.5992, Loss: 0.8511\n",
      "Epoch   0 Batch  140/269 - Train Accuracy: 0.6026, Validation Accuracy: 0.6022, Loss: 0.7815\n",
      "Epoch   0 Batch  145/269 - Train Accuracy: 0.5974, Validation Accuracy: 0.5970, Loss: 0.7497\n",
      "Epoch   0 Batch  150/269 - Train Accuracy: 0.6051, Validation Accuracy: 0.6025, Loss: 0.7538\n",
      "Epoch   0 Batch  155/269 - Train Accuracy: 0.6352, Validation Accuracy: 0.6040, Loss: 0.6769\n",
      "Epoch   0 Batch  160/269 - Train Accuracy: 0.5940, Validation Accuracy: 0.5936, Loss: 0.6856\n",
      "Epoch   0 Batch  165/269 - Train Accuracy: 0.5985, Validation Accuracy: 0.6192, Loss: 0.6961\n",
      "Epoch   0 Batch  170/269 - Train Accuracy: 0.6157, Validation Accuracy: 0.6113, Loss: 0.6567\n",
      "Epoch   0 Batch  175/269 - Train Accuracy: 0.6223, Validation Accuracy: 0.6251, Loss: 0.6608\n",
      "Epoch   0 Batch  180/269 - Train Accuracy: 0.6180, Validation Accuracy: 0.6117, Loss: 0.6251\n",
      "Epoch   0 Batch  185/269 - Train Accuracy: 0.6230, Validation Accuracy: 0.6265, Loss: 0.6163\n",
      "Epoch   0 Batch  190/269 - Train Accuracy: 0.6214, Validation Accuracy: 0.6264, Loss: 0.5911\n",
      "Epoch   0 Batch  195/269 - Train Accuracy: 0.6273, Validation Accuracy: 0.6297, Loss: 0.5903\n",
      "Epoch   0 Batch  200/269 - Train Accuracy: 0.6234, Validation Accuracy: 0.6346, Loss: 0.6019\n",
      "Epoch   0 Batch  205/269 - Train Accuracy: 0.6357, Validation Accuracy: 0.6350, Loss: 0.5684\n",
      "Epoch   0 Batch  210/269 - Train Accuracy: 0.6567, Validation Accuracy: 0.6578, Loss: 0.5491\n",
      "Epoch   0 Batch  215/269 - Train Accuracy: 0.6704, Validation Accuracy: 0.6383, Loss: 0.5279\n",
      "Epoch   0 Batch  220/269 - Train Accuracy: 0.6737, Validation Accuracy: 0.6609, Loss: 0.5196\n",
      "Epoch   0 Batch  225/269 - Train Accuracy: 0.6513, Validation Accuracy: 0.6582, Loss: 0.5440\n",
      "Epoch   0 Batch  230/269 - Train Accuracy: 0.6652, Validation Accuracy: 0.6717, Loss: 0.5273\n",
      "Epoch   0 Batch  235/269 - Train Accuracy: 0.6625, Validation Accuracy: 0.6733, Loss: 0.5066\n",
      "Epoch   0 Batch  240/269 - Train Accuracy: 0.7120, Validation Accuracy: 0.6836, Loss: 0.4542\n",
      "Epoch   0 Batch  245/269 - Train Accuracy: 0.6666, Validation Accuracy: 0.6701, Loss: 0.5089\n",
      "Epoch   0 Batch  250/269 - Train Accuracy: 0.6947, Validation Accuracy: 0.6980, Loss: 0.4870\n",
      "Epoch   0 Batch  255/269 - Train Accuracy: 0.7130, Validation Accuracy: 0.6934, Loss: 0.4443\n",
      "Epoch   0 Batch  260/269 - Train Accuracy: 0.6979, Validation Accuracy: 0.7144, Loss: 0.4694\n",
      "Epoch   0 Batch  265/269 - Train Accuracy: 0.7092, Validation Accuracy: 0.7232, Loss: 0.4516\n",
      "Epoch   1 Batch    5/269 - Train Accuracy: 0.7224, Validation Accuracy: 0.7319, Loss: 0.4296\n",
      "Epoch   1 Batch   10/269 - Train Accuracy: 0.7442, Validation Accuracy: 0.7401, Loss: 0.4227\n",
      "Epoch   1 Batch   15/269 - Train Accuracy: 0.7404, Validation Accuracy: 0.7425, Loss: 0.3853\n",
      "Epoch   1 Batch   20/269 - Train Accuracy: 0.7572, Validation Accuracy: 0.7548, Loss: 0.3854\n",
      "Epoch   1 Batch   25/269 - Train Accuracy: 0.7608, Validation Accuracy: 0.7486, Loss: 0.3874\n",
      "Epoch   1 Batch   30/269 - Train Accuracy: 0.7845, Validation Accuracy: 0.7858, Loss: 0.3454\n",
      "Epoch   1 Batch   35/269 - Train Accuracy: 0.7786, Validation Accuracy: 0.7797, Loss: 0.3422\n",
      "Epoch   1 Batch   40/269 - Train Accuracy: 0.7927, Validation Accuracy: 0.7945, Loss: 0.3398\n",
      "Epoch   1 Batch   45/269 - Train Accuracy: 0.7882, Validation Accuracy: 0.7973, Loss: 0.3194\n",
      "Epoch   1 Batch   50/269 - Train Accuracy: 0.8068, Validation Accuracy: 0.8146, Loss: 0.3186\n",
      "Epoch   1 Batch   55/269 - Train Accuracy: 0.8351, Validation Accuracy: 0.8252, Loss: 0.2833\n",
      "Epoch   1 Batch   60/269 - Train Accuracy: 0.8322, Validation Accuracy: 0.8129, Loss: 0.2585\n",
      "Epoch   1 Batch   65/269 - Train Accuracy: 0.8236, Validation Accuracy: 0.8206, Loss: 0.2625\n",
      "Epoch   1 Batch   70/269 - Train Accuracy: 0.8318, Validation Accuracy: 0.8261, Loss: 0.2558\n",
      "Epoch   1 Batch   75/269 - Train Accuracy: 0.8450, Validation Accuracy: 0.8322, Loss: 0.2517\n",
      "Epoch   1 Batch   80/269 - Train Accuracy: 0.8452, Validation Accuracy: 0.8390, Loss: 0.2331\n",
      "Epoch   1 Batch   85/269 - Train Accuracy: 0.8579, Validation Accuracy: 0.8350, Loss: 0.2265\n",
      "Epoch   1 Batch   90/269 - Train Accuracy: 0.8217, Validation Accuracy: 0.8393, Loss: 0.2337\n",
      "Epoch   1 Batch   95/269 - Train Accuracy: 0.8673, Validation Accuracy: 0.8556, Loss: 0.2067\n",
      "Epoch   1 Batch  100/269 - Train Accuracy: 0.8724, Validation Accuracy: 0.8589, Loss: 0.1995\n",
      "Epoch   1 Batch  105/269 - Train Accuracy: 0.8670, Validation Accuracy: 0.8697, Loss: 0.2011\n",
      "Epoch   1 Batch  110/269 - Train Accuracy: 0.8619, Validation Accuracy: 0.8705, Loss: 0.1801\n",
      "Epoch   1 Batch  115/269 - Train Accuracy: 0.8706, Validation Accuracy: 0.8698, Loss: 0.1839\n",
      "Epoch   1 Batch  120/269 - Train Accuracy: 0.8834, Validation Accuracy: 0.8732, Loss: 0.1761\n",
      "Epoch   1 Batch  125/269 - Train Accuracy: 0.8821, Validation Accuracy: 0.8730, Loss: 0.1581\n",
      "Epoch   1 Batch  130/269 - Train Accuracy: 0.8892, Validation Accuracy: 0.8747, Loss: 0.1652\n",
      "Epoch   1 Batch  135/269 - Train Accuracy: 0.8839, Validation Accuracy: 0.8850, Loss: 0.1620\n",
      "Epoch   1 Batch  140/269 - Train Accuracy: 0.8842, Validation Accuracy: 0.8832, Loss: 0.1549\n",
      "Epoch   1 Batch  145/269 - Train Accuracy: 0.8984, Validation Accuracy: 0.8854, Loss: 0.1409\n",
      "Epoch   1 Batch  150/269 - Train Accuracy: 0.8913, Validation Accuracy: 0.8970, Loss: 0.1365\n",
      "Epoch   1 Batch  155/269 - Train Accuracy: 0.8883, Validation Accuracy: 0.8981, Loss: 0.1272\n",
      "Epoch   1 Batch  160/269 - Train Accuracy: 0.8986, Validation Accuracy: 0.8948, Loss: 0.1331\n",
      "Epoch   1 Batch  165/269 - Train Accuracy: 0.8978, Validation Accuracy: 0.8971, Loss: 0.1207\n",
      "Epoch   1 Batch  170/269 - Train Accuracy: 0.8948, Validation Accuracy: 0.9076, Loss: 0.1221\n",
      "Epoch   1 Batch  175/269 - Train Accuracy: 0.8708, Validation Accuracy: 0.9036, Loss: 0.1345\n",
      "Epoch   1 Batch  180/269 - Train Accuracy: 0.9049, Validation Accuracy: 0.9145, Loss: 0.1117\n"
     ]
    },
    {
     "name": "stdout",
     "output_type": "stream",
     "text": [
      "Epoch   1 Batch  185/269 - Train Accuracy: 0.9214, Validation Accuracy: 0.9088, Loss: 0.1101\n",
      "Epoch   1 Batch  190/269 - Train Accuracy: 0.9125, Validation Accuracy: 0.9149, Loss: 0.1003\n",
      "Epoch   1 Batch  195/269 - Train Accuracy: 0.9069, Validation Accuracy: 0.9110, Loss: 0.1041\n",
      "Epoch   1 Batch  200/269 - Train Accuracy: 0.9049, Validation Accuracy: 0.9108, Loss: 0.1041\n",
      "Epoch   1 Batch  205/269 - Train Accuracy: 0.9027, Validation Accuracy: 0.9120, Loss: 0.0998\n",
      "Epoch   1 Batch  210/269 - Train Accuracy: 0.9155, Validation Accuracy: 0.9119, Loss: 0.0945\n",
      "Epoch   1 Batch  215/269 - Train Accuracy: 0.9217, Validation Accuracy: 0.9178, Loss: 0.0917\n",
      "Epoch   1 Batch  220/269 - Train Accuracy: 0.9161, Validation Accuracy: 0.9134, Loss: 0.0883\n",
      "Epoch   1 Batch  225/269 - Train Accuracy: 0.9146, Validation Accuracy: 0.9199, Loss: 0.0889\n",
      "Epoch   1 Batch  230/269 - Train Accuracy: 0.9295, Validation Accuracy: 0.9240, Loss: 0.0910\n",
      "Epoch   1 Batch  235/269 - Train Accuracy: 0.9384, Validation Accuracy: 0.9207, Loss: 0.0822\n",
      "Epoch   1 Batch  240/269 - Train Accuracy: 0.9327, Validation Accuracy: 0.9188, Loss: 0.0756\n",
      "Epoch   1 Batch  245/269 - Train Accuracy: 0.9006, Validation Accuracy: 0.9252, Loss: 0.0886\n",
      "Epoch   1 Batch  250/269 - Train Accuracy: 0.9319, Validation Accuracy: 0.9303, Loss: 0.0780\n",
      "Epoch   1 Batch  255/269 - Train Accuracy: 0.9204, Validation Accuracy: 0.9212, Loss: 0.0819\n",
      "Epoch   1 Batch  260/269 - Train Accuracy: 0.9151, Validation Accuracy: 0.9242, Loss: 0.0863\n",
      "Epoch   1 Batch  265/269 - Train Accuracy: 0.9223, Validation Accuracy: 0.9303, Loss: 0.0777\n",
      "Epoch   2 Batch    5/269 - Train Accuracy: 0.9377, Validation Accuracy: 0.9212, Loss: 0.0726\n",
      "Epoch   2 Batch   10/269 - Train Accuracy: 0.9271, Validation Accuracy: 0.9300, Loss: 0.0642\n",
      "Epoch   2 Batch   15/269 - Train Accuracy: 0.9317, Validation Accuracy: 0.9336, Loss: 0.0608\n",
      "Epoch   2 Batch   20/269 - Train Accuracy: 0.9318, Validation Accuracy: 0.9299, Loss: 0.0651\n",
      "Epoch   2 Batch   25/269 - Train Accuracy: 0.9309, Validation Accuracy: 0.9327, Loss: 0.0698\n",
      "Epoch   2 Batch   30/269 - Train Accuracy: 0.9346, Validation Accuracy: 0.9355, Loss: 0.0669\n",
      "Epoch   2 Batch   35/269 - Train Accuracy: 0.9399, Validation Accuracy: 0.9288, Loss: 0.0726\n",
      "Epoch   2 Batch   40/269 - Train Accuracy: 0.9263, Validation Accuracy: 0.9339, Loss: 0.0687\n",
      "Epoch   2 Batch   45/269 - Train Accuracy: 0.9390, Validation Accuracy: 0.9316, Loss: 0.0636\n",
      "Epoch   2 Batch   50/269 - Train Accuracy: 0.9245, Validation Accuracy: 0.9278, Loss: 0.0708\n",
      "Epoch   2 Batch   55/269 - Train Accuracy: 0.9351, Validation Accuracy: 0.9282, Loss: 0.0625\n",
      "Epoch   2 Batch   60/269 - Train Accuracy: 0.9394, Validation Accuracy: 0.9285, Loss: 0.0556\n",
      "Epoch   2 Batch   65/269 - Train Accuracy: 0.9313, Validation Accuracy: 0.9337, Loss: 0.0548\n",
      "Epoch   2 Batch   70/269 - Train Accuracy: 0.9347, Validation Accuracy: 0.9224, Loss: 0.0625\n",
      "Epoch   2 Batch   75/269 - Train Accuracy: 0.9459, Validation Accuracy: 0.9294, Loss: 0.0607\n",
      "Epoch   2 Batch   80/269 - Train Accuracy: 0.9349, Validation Accuracy: 0.9326, Loss: 0.0560\n",
      "Epoch   2 Batch   85/269 - Train Accuracy: 0.9339, Validation Accuracy: 0.9360, Loss: 0.0568\n",
      "Epoch   2 Batch   90/269 - Train Accuracy: 0.9398, Validation Accuracy: 0.9298, Loss: 0.0591\n",
      "Epoch   2 Batch   95/269 - Train Accuracy: 0.9382, Validation Accuracy: 0.9462, Loss: 0.0532\n",
      "Epoch   2 Batch  100/269 - Train Accuracy: 0.9331, Validation Accuracy: 0.9364, Loss: 0.0582\n",
      "Epoch   2 Batch  105/269 - Train Accuracy: 0.9281, Validation Accuracy: 0.9402, Loss: 0.0594\n",
      "Epoch   2 Batch  110/269 - Train Accuracy: 0.9357, Validation Accuracy: 0.9341, Loss: 0.0506\n",
      "Epoch   2 Batch  115/269 - Train Accuracy: 0.9395, Validation Accuracy: 0.9375, Loss: 0.0522\n",
      "Epoch   2 Batch  120/269 - Train Accuracy: 0.9383, Validation Accuracy: 0.9318, Loss: 0.0519\n",
      "Epoch   2 Batch  125/269 - Train Accuracy: 0.9483, Validation Accuracy: 0.9423, Loss: 0.0454\n",
      "Epoch   2 Batch  130/269 - Train Accuracy: 0.9437, Validation Accuracy: 0.9305, Loss: 0.0553\n",
      "Epoch   2 Batch  135/269 - Train Accuracy: 0.9437, Validation Accuracy: 0.9456, Loss: 0.0503\n",
      "Epoch   2 Batch  140/269 - Train Accuracy: 0.9337, Validation Accuracy: 0.9424, Loss: 0.0533\n",
      "Epoch   2 Batch  145/269 - Train Accuracy: 0.9597, Validation Accuracy: 0.9471, Loss: 0.0466\n",
      "Epoch   2 Batch  150/269 - Train Accuracy: 0.9389, Validation Accuracy: 0.9419, Loss: 0.0497\n",
      "Epoch   2 Batch  155/269 - Train Accuracy: 0.9465, Validation Accuracy: 0.9511, Loss: 0.0473\n",
      "Epoch   2 Batch  160/269 - Train Accuracy: 0.9422, Validation Accuracy: 0.9490, Loss: 0.0466\n",
      "Epoch   2 Batch  165/269 - Train Accuracy: 0.9468, Validation Accuracy: 0.9422, Loss: 0.0442\n",
      "Epoch   2 Batch  170/269 - Train Accuracy: 0.9426, Validation Accuracy: 0.9461, Loss: 0.0470\n",
      "Epoch   2 Batch  175/269 - Train Accuracy: 0.9434, Validation Accuracy: 0.9516, Loss: 0.0591\n",
      "Epoch   2 Batch  180/269 - Train Accuracy: 0.9535, Validation Accuracy: 0.9474, Loss: 0.0451\n",
      "Epoch   2 Batch  185/269 - Train Accuracy: 0.9602, Validation Accuracy: 0.9492, Loss: 0.0454\n",
      "Epoch   2 Batch  190/269 - Train Accuracy: 0.9481, Validation Accuracy: 0.9503, Loss: 0.0455\n",
      "Epoch   2 Batch  195/269 - Train Accuracy: 0.9512, Validation Accuracy: 0.9474, Loss: 0.0434\n",
      "Epoch   2 Batch  200/269 - Train Accuracy: 0.9441, Validation Accuracy: 0.9468, Loss: 0.0430\n",
      "Epoch   2 Batch  205/269 - Train Accuracy: 0.9502, Validation Accuracy: 0.9513, Loss: 0.0451\n",
      "Epoch   2 Batch  210/269 - Train Accuracy: 0.9495, Validation Accuracy: 0.9443, Loss: 0.0400\n",
      "Epoch   2 Batch  215/269 - Train Accuracy: 0.9469, Validation Accuracy: 0.9495, Loss: 0.0425\n",
      "Epoch   2 Batch  220/269 - Train Accuracy: 0.9474, Validation Accuracy: 0.9457, Loss: 0.0420\n",
      "Epoch   2 Batch  225/269 - Train Accuracy: 0.9464, Validation Accuracy: 0.9515, Loss: 0.0397\n",
      "Epoch   2 Batch  230/269 - Train Accuracy: 0.9581, Validation Accuracy: 0.9572, Loss: 0.0426\n",
      "Epoch   2 Batch  235/269 - Train Accuracy: 0.9688, Validation Accuracy: 0.9439, Loss: 0.0338\n",
      "Epoch   2 Batch  240/269 - Train Accuracy: 0.9559, Validation Accuracy: 0.9492, Loss: 0.0391\n",
      "Epoch   2 Batch  245/269 - Train Accuracy: 0.9447, Validation Accuracy: 0.9589, Loss: 0.0413\n",
      "Epoch   2 Batch  250/269 - Train Accuracy: 0.9697, Validation Accuracy: 0.9561, Loss: 0.0390\n",
      "Epoch   2 Batch  255/269 - Train Accuracy: 0.9504, Validation Accuracy: 0.9474, Loss: 0.0398\n",
      "Epoch   2 Batch  260/269 - Train Accuracy: 0.9539, Validation Accuracy: 0.9538, Loss: 0.0432\n",
      "Epoch   2 Batch  265/269 - Train Accuracy: 0.9469, Validation Accuracy: 0.9586, Loss: 0.0414\n",
      "Epoch   3 Batch    5/269 - Train Accuracy: 0.9625, Validation Accuracy: 0.9454, Loss: 0.0383\n",
      "Epoch   3 Batch   10/269 - Train Accuracy: 0.9623, Validation Accuracy: 0.9533, Loss: 0.0319\n",
      "Epoch   3 Batch   15/269 - Train Accuracy: 0.9727, Validation Accuracy: 0.9568, Loss: 0.0297\n",
      "Epoch   3 Batch   20/269 - Train Accuracy: 0.9602, Validation Accuracy: 0.9531, Loss: 0.0340\n",
      "Epoch   3 Batch   25/269 - Train Accuracy: 0.9574, Validation Accuracy: 0.9456, Loss: 0.0361\n",
      "Epoch   3 Batch   30/269 - Train Accuracy: 0.9646, Validation Accuracy: 0.9544, Loss: 0.0373\n",
      "Epoch   3 Batch   35/269 - Train Accuracy: 0.9634, Validation Accuracy: 0.9632, Loss: 0.0421\n",
      "Epoch   3 Batch   40/269 - Train Accuracy: 0.9477, Validation Accuracy: 0.9528, Loss: 0.0384\n",
      "Epoch   3 Batch   45/269 - Train Accuracy: 0.9576, Validation Accuracy: 0.9574, Loss: 0.0363\n",
      "Epoch   3 Batch   50/269 - Train Accuracy: 0.9482, Validation Accuracy: 0.9545, Loss: 0.0400\n",
      "Epoch   3 Batch   55/269 - Train Accuracy: 0.9556, Validation Accuracy: 0.9607, Loss: 0.0334\n",
      "Epoch   3 Batch   60/269 - Train Accuracy: 0.9625, Validation Accuracy: 0.9586, Loss: 0.0325\n",
      "Epoch   3 Batch   65/269 - Train Accuracy: 0.9688, Validation Accuracy: 0.9550, Loss: 0.0303\n",
      "Epoch   3 Batch   70/269 - Train Accuracy: 0.9602, Validation Accuracy: 0.9482, Loss: 0.0372\n",
      "Epoch   3 Batch   75/269 - Train Accuracy: 0.9587, Validation Accuracy: 0.9580, Loss: 0.0356\n",
      "Epoch   3 Batch   80/269 - Train Accuracy: 0.9656, Validation Accuracy: 0.9610, Loss: 0.0314\n",
      "Epoch   3 Batch   85/269 - Train Accuracy: 0.9557, Validation Accuracy: 0.9579, Loss: 0.0317\n",
      "Epoch   3 Batch   90/269 - Train Accuracy: 0.9655, Validation Accuracy: 0.9596, Loss: 0.0341\n",
      "Epoch   3 Batch   95/269 - Train Accuracy: 0.9668, Validation Accuracy: 0.9653, Loss: 0.0310\n"
     ]
    },
    {
     "name": "stdout",
     "output_type": "stream",
     "text": [
      "Epoch   3 Batch  100/269 - Train Accuracy: 0.9596, Validation Accuracy: 0.9540, Loss: 0.0335\n",
      "Epoch   3 Batch  105/269 - Train Accuracy: 0.9485, Validation Accuracy: 0.9586, Loss: 0.0351\n",
      "Epoch   3 Batch  110/269 - Train Accuracy: 0.9599, Validation Accuracy: 0.9545, Loss: 0.0278\n",
      "Epoch   3 Batch  115/269 - Train Accuracy: 0.9596, Validation Accuracy: 0.9610, Loss: 0.0319\n",
      "Epoch   3 Batch  120/269 - Train Accuracy: 0.9604, Validation Accuracy: 0.9557, Loss: 0.0324\n",
      "Epoch   3 Batch  125/269 - Train Accuracy: 0.9677, Validation Accuracy: 0.9564, Loss: 0.0300\n",
      "Epoch   3 Batch  130/269 - Train Accuracy: 0.9612, Validation Accuracy: 0.9491, Loss: 0.0346\n",
      "Epoch   3 Batch  135/269 - Train Accuracy: 0.9643, Validation Accuracy: 0.9624, Loss: 0.0318\n",
      "Epoch   3 Batch  140/269 - Train Accuracy: 0.9568, Validation Accuracy: 0.9603, Loss: 0.0325\n",
      "Epoch   3 Batch  145/269 - Train Accuracy: 0.9731, Validation Accuracy: 0.9565, Loss: 0.0284\n",
      "Epoch   3 Batch  150/269 - Train Accuracy: 0.9615, Validation Accuracy: 0.9563, Loss: 0.0310\n",
      "Epoch   3 Batch  155/269 - Train Accuracy: 0.9627, Validation Accuracy: 0.9725, Loss: 0.0290\n",
      "Epoch   3 Batch  160/269 - Train Accuracy: 0.9627, Validation Accuracy: 0.9649, Loss: 0.0302\n",
      "Epoch   3 Batch  165/269 - Train Accuracy: 0.9641, Validation Accuracy: 0.9656, Loss: 0.0299\n",
      "Epoch   3 Batch  170/269 - Train Accuracy: 0.9669, Validation Accuracy: 0.9659, Loss: 0.0281\n",
      "Epoch   3 Batch  175/269 - Train Accuracy: 0.9593, Validation Accuracy: 0.9547, Loss: 0.0391\n",
      "Epoch   3 Batch  180/269 - Train Accuracy: 0.9722, Validation Accuracy: 0.9627, Loss: 0.0274\n",
      "Epoch   3 Batch  185/269 - Train Accuracy: 0.9692, Validation Accuracy: 0.9662, Loss: 0.0290\n",
      "Epoch   3 Batch  190/269 - Train Accuracy: 0.9628, Validation Accuracy: 0.9569, Loss: 0.0289\n",
      "Epoch   3 Batch  195/269 - Train Accuracy: 0.9619, Validation Accuracy: 0.9597, Loss: 0.0261\n",
      "Epoch   3 Batch  200/269 - Train Accuracy: 0.9651, Validation Accuracy: 0.9573, Loss: 0.0279\n",
      "Epoch   3 Batch  205/269 - Train Accuracy: 0.9661, Validation Accuracy: 0.9526, Loss: 0.0295\n",
      "Epoch   3 Batch  210/269 - Train Accuracy: 0.9621, Validation Accuracy: 0.9462, Loss: 0.0266\n",
      "Epoch   3 Batch  215/269 - Train Accuracy: 0.9615, Validation Accuracy: 0.9612, Loss: 0.0284\n",
      "Epoch   3 Batch  220/269 - Train Accuracy: 0.9632, Validation Accuracy: 0.9657, Loss: 0.0267\n",
      "Epoch   3 Batch  225/269 - Train Accuracy: 0.9606, Validation Accuracy: 0.9605, Loss: 0.0265\n",
      "Epoch   3 Batch  230/269 - Train Accuracy: 0.9717, Validation Accuracy: 0.9665, Loss: 0.0273\n",
      "Epoch   3 Batch  235/269 - Train Accuracy: 0.9864, Validation Accuracy: 0.9660, Loss: 0.0217\n",
      "Epoch   3 Batch  240/269 - Train Accuracy: 0.9733, Validation Accuracy: 0.9628, Loss: 0.0244\n",
      "Epoch   3 Batch  245/269 - Train Accuracy: 0.9683, Validation Accuracy: 0.9683, Loss: 0.0270\n",
      "Epoch   3 Batch  250/269 - Train Accuracy: 0.9806, Validation Accuracy: 0.9651, Loss: 0.0245\n",
      "Epoch   3 Batch  255/269 - Train Accuracy: 0.9653, Validation Accuracy: 0.9639, Loss: 0.0277\n",
      "Epoch   3 Batch  260/269 - Train Accuracy: 0.9724, Validation Accuracy: 0.9645, Loss: 0.0299\n",
      "Epoch   3 Batch  265/269 - Train Accuracy: 0.9696, Validation Accuracy: 0.9655, Loss: 0.0285\n",
      "Epoch   4 Batch    5/269 - Train Accuracy: 0.9708, Validation Accuracy: 0.9676, Loss: 0.0276\n",
      "Epoch   4 Batch   10/269 - Train Accuracy: 0.9757, Validation Accuracy: 0.9643, Loss: 0.0208\n",
      "Epoch   4 Batch   15/269 - Train Accuracy: 0.9841, Validation Accuracy: 0.9672, Loss: 0.0204\n",
      "Epoch   4 Batch   20/269 - Train Accuracy: 0.9741, Validation Accuracy: 0.9623, Loss: 0.0249\n",
      "Epoch   4 Batch   25/269 - Train Accuracy: 0.9687, Validation Accuracy: 0.9597, Loss: 0.0250\n",
      "Epoch   4 Batch   30/269 - Train Accuracy: 0.9698, Validation Accuracy: 0.9687, Loss: 0.0257\n",
      "Epoch   4 Batch   35/269 - Train Accuracy: 0.9761, Validation Accuracy: 0.9680, Loss: 0.0296\n",
      "Epoch   4 Batch   40/269 - Train Accuracy: 0.9666, Validation Accuracy: 0.9667, Loss: 0.0288\n",
      "Epoch   4 Batch   45/269 - Train Accuracy: 0.9638, Validation Accuracy: 0.9634, Loss: 0.0265\n",
      "Epoch   4 Batch   50/269 - Train Accuracy: 0.9698, Validation Accuracy: 0.9670, Loss: 0.0281\n",
      "Epoch   4 Batch   55/269 - Train Accuracy: 0.9705, Validation Accuracy: 0.9597, Loss: 0.0250\n",
      "Epoch   4 Batch   60/269 - Train Accuracy: 0.9726, Validation Accuracy: 0.9634, Loss: 0.0250\n",
      "Epoch   4 Batch   65/269 - Train Accuracy: 0.9794, Validation Accuracy: 0.9630, Loss: 0.0217\n",
      "Epoch   4 Batch   70/269 - Train Accuracy: 0.9697, Validation Accuracy: 0.9660, Loss: 0.0250\n",
      "Epoch   4 Batch   75/269 - Train Accuracy: 0.9649, Validation Accuracy: 0.9673, Loss: 0.0269\n",
      "Epoch   4 Batch   80/269 - Train Accuracy: 0.9808, Validation Accuracy: 0.9652, Loss: 0.0229\n",
      "Epoch   4 Batch   85/269 - Train Accuracy: 0.9682, Validation Accuracy: 0.9672, Loss: 0.0228\n",
      "Epoch   4 Batch   90/269 - Train Accuracy: 0.9722, Validation Accuracy: 0.9725, Loss: 0.0237\n",
      "Epoch   4 Batch   95/269 - Train Accuracy: 0.9787, Validation Accuracy: 0.9647, Loss: 0.0219\n",
      "Epoch   4 Batch  100/269 - Train Accuracy: 0.9773, Validation Accuracy: 0.9670, Loss: 0.0233\n",
      "Epoch   4 Batch  105/269 - Train Accuracy: 0.9697, Validation Accuracy: 0.9658, Loss: 0.0249\n",
      "Epoch   4 Batch  110/269 - Train Accuracy: 0.9647, Validation Accuracy: 0.9515, Loss: 0.0219\n",
      "Epoch   4 Batch  115/269 - Train Accuracy: 0.9726, Validation Accuracy: 0.9611, Loss: 0.0232\n",
      "Epoch   4 Batch  120/269 - Train Accuracy: 0.9701, Validation Accuracy: 0.9605, Loss: 0.0248\n",
      "Epoch   4 Batch  125/269 - Train Accuracy: 0.9743, Validation Accuracy: 0.9652, Loss: 0.0227\n",
      "Epoch   4 Batch  130/269 - Train Accuracy: 0.9729, Validation Accuracy: 0.9541, Loss: 0.0230\n",
      "Epoch   4 Batch  135/269 - Train Accuracy: 0.9714, Validation Accuracy: 0.9711, Loss: 0.0220\n",
      "Epoch   4 Batch  140/269 - Train Accuracy: 0.9736, Validation Accuracy: 0.9743, Loss: 0.0228\n",
      "Epoch   4 Batch  145/269 - Train Accuracy: 0.9814, Validation Accuracy: 0.9569, Loss: 0.0196\n",
      "Epoch   4 Batch  150/269 - Train Accuracy: 0.9663, Validation Accuracy: 0.9658, Loss: 0.0243\n",
      "Epoch   4 Batch  155/269 - Train Accuracy: 0.9727, Validation Accuracy: 0.9646, Loss: 0.0223\n",
      "Epoch   4 Batch  160/269 - Train Accuracy: 0.9694, Validation Accuracy: 0.9671, Loss: 0.0226\n",
      "Epoch   4 Batch  165/269 - Train Accuracy: 0.9682, Validation Accuracy: 0.9589, Loss: 0.0215\n",
      "Epoch   4 Batch  170/269 - Train Accuracy: 0.9751, Validation Accuracy: 0.9705, Loss: 0.0208\n",
      "Epoch   4 Batch  175/269 - Train Accuracy: 0.9661, Validation Accuracy: 0.9653, Loss: 0.0307\n",
      "Epoch   4 Batch  180/269 - Train Accuracy: 0.9814, Validation Accuracy: 0.9612, Loss: 0.0203\n",
      "Epoch   4 Batch  185/269 - Train Accuracy: 0.9773, Validation Accuracy: 0.9630, Loss: 0.0221\n",
      "Epoch   4 Batch  190/269 - Train Accuracy: 0.9729, Validation Accuracy: 0.9697, Loss: 0.0218\n",
      "Epoch   4 Batch  195/269 - Train Accuracy: 0.9699, Validation Accuracy: 0.9650, Loss: 0.0181\n",
      "Epoch   4 Batch  200/269 - Train Accuracy: 0.9772, Validation Accuracy: 0.9632, Loss: 0.0194\n",
      "Epoch   4 Batch  205/269 - Train Accuracy: 0.9874, Validation Accuracy: 0.9616, Loss: 0.0201\n",
      "Epoch   4 Batch  210/269 - Train Accuracy: 0.9753, Validation Accuracy: 0.9566, Loss: 0.0192\n",
      "Epoch   4 Batch  215/269 - Train Accuracy: 0.9687, Validation Accuracy: 0.9610, Loss: 0.0219\n",
      "Epoch   4 Batch  220/269 - Train Accuracy: 0.9721, Validation Accuracy: 0.9601, Loss: 0.0211\n",
      "Epoch   4 Batch  225/269 - Train Accuracy: 0.9701, Validation Accuracy: 0.9722, Loss: 0.0208\n",
      "Epoch   4 Batch  230/269 - Train Accuracy: 0.9736, Validation Accuracy: 0.9668, Loss: 0.0201\n",
      "Epoch   4 Batch  235/269 - Train Accuracy: 0.9898, Validation Accuracy: 0.9649, Loss: 0.0145\n",
      "Epoch   4 Batch  240/269 - Train Accuracy: 0.9740, Validation Accuracy: 0.9682, Loss: 0.0192\n",
      "Epoch   4 Batch  245/269 - Train Accuracy: 0.9725, Validation Accuracy: 0.9688, Loss: 0.0199\n",
      "Epoch   4 Batch  250/269 - Train Accuracy: 0.9742, Validation Accuracy: 0.9628, Loss: 0.0177\n",
      "Epoch   4 Batch  255/269 - Train Accuracy: 0.9759, Validation Accuracy: 0.9660, Loss: 0.0205\n",
      "Epoch   4 Batch  260/269 - Train Accuracy: 0.9775, Validation Accuracy: 0.9701, Loss: 0.0210\n",
      "Epoch   4 Batch  265/269 - Train Accuracy: 0.9722, Validation Accuracy: 0.9657, Loss: 0.0203\n",
      "Model Trained and Saved\n"
     ]
    }
   ],
   "source": [
    "\"\"\"\n",
    "DON'T MODIFY ANYTHING IN THIS CELL\n",
    "\"\"\"\n",
    "def get_accuracy(target, logits):\n",
    "    \"\"\"\n",
    "    Calculate accuracy\n",
    "    \"\"\"\n",
    "    max_seq = max(target.shape[1], logits.shape[1])\n",
    "    if max_seq - target.shape[1]:\n",
    "        target = np.pad(\n",
    "            target,\n",
    "            [(0,0),(0,max_seq - target.shape[1])],\n",
    "            'constant')\n",
    "    if max_seq - logits.shape[1]:\n",
    "        logits = np.pad(\n",
    "            logits,\n",
    "            [(0,0),(0,max_seq - logits.shape[1])],\n",
    "            'constant')\n",
    "\n",
    "    return np.mean(np.equal(target, logits))\n",
    "\n",
    "# Split data to training and validation sets\n",
    "train_source = source_int_text[batch_size:]\n",
    "train_target = target_int_text[batch_size:]\n",
    "valid_source = source_int_text[:batch_size]\n",
    "valid_target = target_int_text[:batch_size]\n",
    "(valid_sources_batch, valid_targets_batch, valid_sources_lengths, valid_targets_lengths ) = next(get_batches(valid_source,\n",
    "                                                                                                             valid_target,\n",
    "                                                                                                             batch_size,\n",
    "                                                                                                             source_vocab_to_int['<PAD>'],\n",
    "                                                                                                             target_vocab_to_int['<PAD>']))                                                                                                  \n",
    "with tf.Session(graph=train_graph) as sess:\n",
    "    sess.run(tf.global_variables_initializer())\n",
    "\n",
    "    for epoch_i in range(epochs):\n",
    "        for batch_i, (source_batch, target_batch, sources_lengths, targets_lengths) in enumerate(\n",
    "                get_batches(train_source, train_target, batch_size,\n",
    "                            source_vocab_to_int['<PAD>'],\n",
    "                            target_vocab_to_int['<PAD>'])):\n",
    "\n",
    "            _, loss = sess.run(\n",
    "                [train_op, cost],\n",
    "                {input_data: source_batch,\n",
    "                 targets: target_batch,\n",
    "                 lr: learning_rate,\n",
    "                 target_sequence_length: targets_lengths,\n",
    "                 source_sequence_length: sources_lengths,\n",
    "                 keep_prob: keep_probability})\n",
    "\n",
    "\n",
    "            if batch_i % display_step == 0 and batch_i > 0:\n",
    "\n",
    "\n",
    "                batch_train_logits = sess.run(\n",
    "                    inference_logits,\n",
    "                    {input_data: source_batch,\n",
    "                     source_sequence_length: sources_lengths,\n",
    "                     target_sequence_length: targets_lengths,\n",
    "                     keep_prob: 1.0})\n",
    "\n",
    "\n",
    "                batch_valid_logits = sess.run(\n",
    "                    inference_logits,\n",
    "                    {input_data: valid_sources_batch,\n",
    "                     source_sequence_length: valid_sources_lengths,\n",
    "                     target_sequence_length: valid_targets_lengths,\n",
    "                     keep_prob: 1.0})\n",
    "\n",
    "                train_acc = get_accuracy(target_batch, batch_train_logits)\n",
    "\n",
    "                valid_acc = get_accuracy(valid_targets_batch, batch_valid_logits)\n",
    "\n",
    "                print('Epoch {:>3} Batch {:>4}/{} - Train Accuracy: {:>6.4f}, Validation Accuracy: {:>6.4f}, Loss: {:>6.4f}'\n",
    "                      .format(epoch_i, batch_i, len(source_int_text) // batch_size, train_acc, valid_acc, loss))\n",
    "\n",
    "    # Save Model\n",
    "    saver = tf.train.Saver()\n",
    "    saver.save(sess, save_path)\n",
    "    print('Model Trained and Saved')"
   ]
  },
  {
   "cell_type": "markdown",
   "metadata": {},
   "source": [
    "### Save Parameters\n",
    "Save the `batch_size` and `save_path` parameters for inference."
   ]
  },
  {
   "cell_type": "code",
   "execution_count": 31,
   "metadata": {
    "collapsed": true
   },
   "outputs": [],
   "source": [
    "\"\"\"\n",
    "DON'T MODIFY ANYTHING IN THIS CELL\n",
    "\"\"\"\n",
    "# Save parameters for checkpoint\n",
    "helper.save_params(save_path)"
   ]
  },
  {
   "cell_type": "markdown",
   "metadata": {},
   "source": [
    "# Checkpoint"
   ]
  },
  {
   "cell_type": "code",
   "execution_count": 32,
   "metadata": {
    "collapsed": true
   },
   "outputs": [],
   "source": [
    "\"\"\"\n",
    "DON'T MODIFY ANYTHING IN THIS CELL\n",
    "\"\"\"\n",
    "import tensorflow as tf\n",
    "import numpy as np\n",
    "import helper\n",
    "import problem_unittests as tests\n",
    "\n",
    "_, (source_vocab_to_int, target_vocab_to_int), (source_int_to_vocab, target_int_to_vocab) = helper.load_preprocess()\n",
    "load_path = helper.load_params()"
   ]
  },
  {
   "cell_type": "markdown",
   "metadata": {},
   "source": [
    "## Sentence to Sequence\n",
    "To feed a sentence into the model for translation, you first need to preprocess it.  Implement the function `sentence_to_seq()` to preprocess new sentences.\n",
    "\n",
    "- Convert the sentence to lowercase\n",
    "- Convert words into ids using `vocab_to_int`\n",
    " - Convert words not in the vocabulary, to the `<UNK>` word id."
   ]
  },
  {
   "cell_type": "code",
   "execution_count": 33,
   "metadata": {},
   "outputs": [
    {
     "name": "stdout",
     "output_type": "stream",
     "text": [
      "Tests Passed\n"
     ]
    }
   ],
   "source": [
    "def sentence_to_seq(sentence, vocab_to_int):\n",
    "    \"\"\"\n",
    "    Convert a sentence to a sequence of ids\n",
    "    :param sentence: String\n",
    "    :param vocab_to_int: Dictionary to go from the words to an id\n",
    "    :return: List of word ids\n",
    "    \"\"\"\n",
    "    # TODO: Implement Function\n",
    "    sentence = sentence.lower()\n",
    "    vocab_ids = [vocab_to_int.get(vocab, vocab_to_int['<UNK>']) \n",
    "                  for vocab in sentence.split(' ')]\n",
    "    return vocab_ids\n",
    "\n",
    "\n",
    "\"\"\"\n",
    "DON'T MODIFY ANYTHING IN THIS CELL THAT IS BELOW THIS LINE\n",
    "\"\"\"\n",
    "tests.test_sentence_to_seq(sentence_to_seq)"
   ]
  },
  {
   "cell_type": "markdown",
   "metadata": {},
   "source": [
    "## Translate\n",
    "This will translate `translate_sentence` from English to French."
   ]
  },
  {
   "cell_type": "code",
   "execution_count": 34,
   "metadata": {},
   "outputs": [
    {
     "name": "stdout",
     "output_type": "stream",
     "text": [
      "INFO:tensorflow:Restoring parameters from checkpoints/dev\n",
      "Input\n",
      "  Word Ids:      [16, 82, 141, 47, 130, 31, 152]\n",
      "  English Words: ['he', 'saw', 'a', 'old', 'yellow', 'truck', '.']\n",
      "\n",
      "Prediction\n",
      "  Word Ids:      [323, 96, 71, 350, 329, 1]\n",
      "  French Words: il conduit le raisin . <EOS>\n"
     ]
    }
   ],
   "source": [
    "translate_sentence = 'he saw a old yellow truck .'\n",
    "\n",
    "\n",
    "\"\"\"\n",
    "DON'T MODIFY ANYTHING IN THIS CELL\n",
    "\"\"\"\n",
    "translate_sentence = sentence_to_seq(translate_sentence, source_vocab_to_int)\n",
    "\n",
    "loaded_graph = tf.Graph()\n",
    "with tf.Session(graph=loaded_graph) as sess:\n",
    "    # Load saved model\n",
    "    loader = tf.train.import_meta_graph(load_path + '.meta')\n",
    "    loader.restore(sess, load_path)\n",
    "\n",
    "    input_data = loaded_graph.get_tensor_by_name('input:0')\n",
    "    logits = loaded_graph.get_tensor_by_name('predictions:0')\n",
    "    target_sequence_length = loaded_graph.get_tensor_by_name('target_sequence_length:0')\n",
    "    source_sequence_length = loaded_graph.get_tensor_by_name('source_sequence_length:0')\n",
    "    keep_prob = loaded_graph.get_tensor_by_name('keep_prob:0')\n",
    "\n",
    "    translate_logits = sess.run(logits, {input_data: [translate_sentence]*batch_size,\n",
    "                                         target_sequence_length: [len(translate_sentence)*2]*batch_size,\n",
    "                                         source_sequence_length: [len(translate_sentence)]*batch_size,\n",
    "                                         keep_prob: 1.0})[0]\n",
    "\n",
    "print('Input')\n",
    "print('  Word Ids:      {}'.format([i for i in translate_sentence]))\n",
    "print('  English Words: {}'.format([source_int_to_vocab[i] for i in translate_sentence]))\n",
    "\n",
    "print('\\nPrediction')\n",
    "print('  Word Ids:      {}'.format([i for i in translate_logits]))\n",
    "print('  French Words: {}'.format(\" \".join([target_int_to_vocab[i] for i in translate_logits])))\n"
   ]
  },
  {
   "cell_type": "markdown",
   "metadata": {},
   "source": [
    "## Imperfect Translation\n",
    "You might notice that some sentences translate better than others.  Since the dataset you're using only has a vocabulary of 227 English words of the thousands that you use, you're only going to see good results using these words.  For this project, you don't need a perfect translation. However, if you want to create a better translation model, you'll need better data.\n",
    "\n",
    "You can train on the [WMT10 French-English corpus](http://www.statmt.org/wmt10/training-giga-fren.tar).  This dataset has more vocabulary and richer in topics discussed.  However, this will take you days to train, so make sure you've a GPU and the neural network is performing well on dataset we provided.  Just make sure you play with the WMT10 corpus after you've submitted this project.\n",
    "## Submitting This Project\n",
    "When submitting this project, make sure to run all the cells before saving the notebook. Save the notebook file as \"dlnd_language_translation.ipynb\" and save it as a HTML file under \"File\" -> \"Download as\". Include the \"helper.py\" and \"problem_unittests.py\" files in your submission."
   ]
  }
 ],
 "metadata": {
  "anaconda-cloud": {},
  "kernelspec": {
   "display_name": "Python 3",
   "language": "python",
   "name": "python3"
  },
  "language_info": {
   "codemirror_mode": {
    "name": "ipython",
    "version": 3
   },
   "file_extension": ".py",
   "mimetype": "text/x-python",
   "name": "python",
   "nbconvert_exporter": "python",
   "pygments_lexer": "ipython3",
   "version": "3.6.2"
  }
 },
 "nbformat": 4,
 "nbformat_minor": 1
}
